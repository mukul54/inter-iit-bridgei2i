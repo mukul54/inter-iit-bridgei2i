{
  "nbformat": 4,
  "nbformat_minor": 0,
  "metadata": {
    "colab": {
      "name": "clean.ipynb",
      "provenance": [],
      "collapsed_sections": [],
      "toc_visible": true,
      "authorship_tag": "ABX9TyOZAmDWfIYVv4b1kVxinuRB",
      "include_colab_link": true
    },
    "kernelspec": {
      "name": "python3",
      "display_name": "Python 3"
    }
  },
  "cells": [
    {
      "cell_type": "markdown",
      "metadata": {
        "id": "view-in-github",
        "colab_type": "text"
      },
      "source": [
        "<a href=\"https://colab.research.google.com/github/roshan-shaji/inter-iit-bridgei2i/blob/main/clean.ipynb\" target=\"_parent\"><img src=\"https://colab.research.google.com/assets/colab-badge.svg\" alt=\"Open In Colab\"/></a>"
      ]
    },
    {
      "cell_type": "code",
      "metadata": {
        "id": "gJ4x3YVgtBI3"
      },
      "source": [
        "#Basic Python and Machine learning libraries\n",
        "import os, sys, warnings, random, time, re, math, string\n",
        "import pandas as pd\n",
        "import numpy as np\n",
        "import matplotlib.pyplot as plt\n",
        "import seaborn as sns\n",
        "from scipy import stats\n",
        "from sklearn import metrics\n",
        "from sklearn.model_selection import StratifiedKFold\n",
        "from IPython.display import display\n",
        "from tqdm import tqdm_notebook\n",
        "\n",
        "#Pytorch and nltk and other text relevant libraries\n",
        "\n",
        "import torch\n",
        "import nltk\n",
        "from torch import nn, optim\n",
        "from torch.optim import lr_scheduler\n",
        "from torch.functional import F \n",
        "from torch.utils.data import Dataset, DataLoader\n",
        "from sklearn.feature_extraction.text import CountVectorizer,TfidfVectorizer\n",
        "from bs4 import BeautifulSoup\n",
        "from nltk.corpus import stopwords \n",
        "from nltk.tokenize import word_tokenize\n",
        "from nltk.stem import SnowballStemmer, WordNetLemmatizer\n"
      ],
      "execution_count": null,
      "outputs": []
    },
    {
      "cell_type": "code",
      "metadata": {
        "id": "-L_WzpQttQwN"
      },
      "source": [
        "df_tweets = pd.read_excel('/content/dev_data_tweet.xlsx')\n",
        "#df_articles = pd.read_csv('/content/dev_data_article.csv')"
      ],
      "execution_count": null,
      "outputs": []
    },
    {
      "cell_type": "code",
      "metadata": {
        "colab": {
          "base_uri": "https://localhost:8080/",
          "height": 202
        },
        "id": "vmS8Adh8unRe",
        "outputId": "b91e2d67-e64c-4463-a12a-b17b7a583a21"
      },
      "source": [
        "df_tweets.head()"
      ],
      "execution_count": null,
      "outputs": [
        {
          "output_type": "execute_result",
          "data": {
            "text/html": [
              "<div>\n",
              "<style scoped>\n",
              "    .dataframe tbody tr th:only-of-type {\n",
              "        vertical-align: middle;\n",
              "    }\n",
              "\n",
              "    .dataframe tbody tr th {\n",
              "        vertical-align: top;\n",
              "    }\n",
              "\n",
              "    .dataframe thead th {\n",
              "        text-align: right;\n",
              "    }\n",
              "</style>\n",
              "<table border=\"1\" class=\"dataframe\">\n",
              "  <thead>\n",
              "    <tr style=\"text-align: right;\">\n",
              "      <th></th>\n",
              "      <th>Tweet_ID</th>\n",
              "      <th>Tweet</th>\n",
              "      <th>Mobile_Tech_Tag</th>\n",
              "    </tr>\n",
              "  </thead>\n",
              "  <tbody>\n",
              "    <tr>\n",
              "      <th>0</th>\n",
              "      <td>tweet_0001</td>\n",
              "      <td>You'll 💜 my #PitchWars book if you like: 🦋 hat...</td>\n",
              "      <td>0</td>\n",
              "    </tr>\n",
              "    <tr>\n",
              "      <th>1</th>\n",
              "      <td>tweet_0002</td>\n",
              "      <td>RT @SkySportsNews: 🚨 Breaking: #WBA have reach...</td>\n",
              "      <td>0</td>\n",
              "    </tr>\n",
              "    <tr>\n",
              "      <th>2</th>\n",
              "      <td>tweet_0003</td>\n",
              "      <td>RT @stealyoman_cuso: really says a lot about s...</td>\n",
              "      <td>0</td>\n",
              "    </tr>\n",
              "    <tr>\n",
              "      <th>3</th>\n",
              "      <td>tweet_0004</td>\n",
              "      <td>RT @PGtzsche1: HPV vaccines increased serious ...</td>\n",
              "      <td>0</td>\n",
              "    </tr>\n",
              "    <tr>\n",
              "      <th>4</th>\n",
              "      <td>tweet_0005</td>\n",
              "      <td>Ramaphosa says if you are positive you must se...</td>\n",
              "      <td>0</td>\n",
              "    </tr>\n",
              "  </tbody>\n",
              "</table>\n",
              "</div>"
            ],
            "text/plain": [
              "     Tweet_ID  ... Mobile_Tech_Tag\n",
              "0  tweet_0001  ...               0\n",
              "1  tweet_0002  ...               0\n",
              "2  tweet_0003  ...               0\n",
              "3  tweet_0004  ...               0\n",
              "4  tweet_0005  ...               0\n",
              "\n",
              "[5 rows x 3 columns]"
            ]
          },
          "metadata": {
            "tags": []
          },
          "execution_count": 6
        }
      ]
    },
    {
      "cell_type": "code",
      "metadata": {
        "colab": {
          "base_uri": "https://localhost:8080/"
        },
        "id": "jbMN7ULYxBGz",
        "outputId": "368a09f3-69f6-4a38-81b6-2142d6c450e1"
      },
      "source": [
        "pip install emoji"
      ],
      "execution_count": null,
      "outputs": [
        {
          "output_type": "stream",
          "text": [
            "Collecting emoji\n",
            "\u001b[?25l  Downloading https://files.pythonhosted.org/packages/24/fa/b3368f41b95a286f8d300e323449ab4e86b85334c2e0b477e94422b8ed0f/emoji-1.2.0-py3-none-any.whl (131kB)\n",
            "\r\u001b[K     |██▌                             | 10kB 14.0MB/s eta 0:00:01\r\u001b[K     |█████                           | 20kB 13.7MB/s eta 0:00:01\r\u001b[K     |███████▌                        | 30kB 10.1MB/s eta 0:00:01\r\u001b[K     |██████████                      | 40kB 8.0MB/s eta 0:00:01\r\u001b[K     |████████████▌                   | 51kB 4.5MB/s eta 0:00:01\r\u001b[K     |███████████████                 | 61kB 4.9MB/s eta 0:00:01\r\u001b[K     |█████████████████▌              | 71kB 5.1MB/s eta 0:00:01\r\u001b[K     |████████████████████            | 81kB 4.9MB/s eta 0:00:01\r\u001b[K     |██████████████████████▌         | 92kB 5.2MB/s eta 0:00:01\r\u001b[K     |█████████████████████████       | 102kB 5.7MB/s eta 0:00:01\r\u001b[K     |███████████████████████████▌    | 112kB 5.7MB/s eta 0:00:01\r\u001b[K     |██████████████████████████████  | 122kB 5.7MB/s eta 0:00:01\r\u001b[K     |████████████████████████████████| 133kB 5.7MB/s \n",
            "\u001b[?25hInstalling collected packages: emoji\n",
            "Successfully installed emoji-1.2.0\n"
          ],
          "name": "stdout"
        }
      ]
    },
    {
      "cell_type": "code",
      "metadata": {
        "id": "wgFOMUSQxws4"
      },
      "source": [
        "import emoji"
      ],
      "execution_count": null,
      "outputs": []
    },
    {
      "cell_type": "code",
      "metadata": {
        "id": "j1Ybg8fYwPmJ"
      },
      "source": [
        "# def clean_text(text):\n",
        "#     '''Clean emoji, Make text lowercase, remove text in square brackets,remove links,remove punctuation\n",
        "#     and remove words containing numbers.'''\n",
        "#     #text = emoji.demojize(text)\n",
        "#     text = re.sub(r'\\:(.*?)\\:','',text)\n",
        "#     text = str(text).lower()    #Making Text Lowercase\n",
        "#     text = re.sub('\\[.*?\\]', '', text)\n",
        "#     #The next 2 lines remove html text\n",
        "#     text = BeautifulSoup(text, 'lxml').get_text()\n",
        "#     text = re.sub('https?://\\S+|www\\.\\S+', '', text)\n",
        "#     text = re.sub('<.*?>+', '', text)\n",
        "#     text = re.sub('\\n', '', text)\n",
        "#     text = re.sub('\\w*\\d\\w*', '', text)\n",
        "#     # replacing everything with space except (a-z, A-Z, \".\", \"?\", \"!\", \",\", \"'\")\n",
        "#     text = re.sub(r\"[^a-zA-Z?.!,¿']+\", \" \", text)\n",
        "#     return text\n",
        "\n",
        "# def clean_contractions(text, mapping):\n",
        "#     '''Clean contraction using contraction mapping'''    \n",
        "#     specials = [\"’\", \"‘\", \"´\", \"`\"]\n",
        "#     for s in specials:\n",
        "#         text = text.replace(s, \"'\")\n",
        "#     for word in mapping.keys():\n",
        "#         if \"\"+word+\"\" in text:\n",
        "#             text = text.replace(\"\"+word+\"\", \"\"+mapping[word]+\"\")\n",
        "#     #Remove Punctuations\n",
        "#     text = re.sub('[%s]' % re.escape(string.punctuation), '', text)\n",
        "#     # creating a space between a word and the punctuation following it\n",
        "#     # eg: \"he is a boy.\" => \"he is a boy .\"\n",
        "#     text = re.sub(r\"([?.!,¿])\", r\" \\1 \", text)\n",
        "#     text = re.sub(r'[\" \"]+', \" \", text)\n",
        "#     return text\n",
        "\n",
        "# def clean_special_chars(text, punct, mapping):\n",
        "#     '''Cleans special characters present(if any)'''   \n",
        "#     for p in mapping:\n",
        "#         text = text.replace(p, mapping[p])\n",
        "    \n",
        "#     for p in punct:\n",
        "#         text = text.replace(p, f' {p} ')\n",
        "    \n",
        "#     specials = {'\\u200b': ' ', '…': ' ... ', '\\ufeff': '', 'करना': '', 'है': ''}  \n",
        "#     for s in specials:\n",
        "#         text = text.replace(s, specials[s])\n",
        "    \n",
        "#     return text\n",
        "\n",
        "# def correct_spelling(x, dic):\n",
        "#     '''Corrects common spelling errors'''   \n",
        "#     for word in dic.keys():\n",
        "#         x = x.replace(word, dic[word])\n",
        "#     return x\n",
        "\n",
        "# def remove_space(text):\n",
        "#     '''Removes awkward spaces'''   \n",
        "#     #Removes awkward spaces \n",
        "#     text = text.strip()\n",
        "#     text = text.split()\n",
        "#     return \" \".join(text)\n",
        "\n",
        "# def text_preprocessing_pipeline(text):\n",
        "#     '''Cleaning and parsing the text.'''\n",
        "#     text = clean_text(text)\n",
        "#     text = clean_contractions(text, contraction_mapping)\n",
        "#     text = clean_special_chars(text, punct, punct_mapping)\n",
        "#     text = correct_spelling(text, mispell_dict)\n",
        "#     text = remove_space(text)\n",
        "#     return text"
      ],
      "execution_count": null,
      "outputs": []
    },
    {
      "cell_type": "code",
      "metadata": {
        "colab": {
          "base_uri": "https://localhost:8080/",
          "height": 70
        },
        "id": "YNCY_aCtxlxF",
        "outputId": "f60c5487-75fe-4331-897f-9b01e64e012f"
      },
      "source": [
        "# text = re.sub('^https?://.*[rn]*','', text)      #removes links\n",
        "# text = re.sub(r'\\w+:\\/{2}[\\d\\w-]+(\\.[\\d\\w-]+)*(?:(?:\\/[^\\s/]*))*', '', text) \n",
        "# text = re.sub(\"(@[A-Za-z0-9_]+)\",\"\", text)  #accepts only alphanumeric text\n",
        "# text = re.sub(\"([^\\w\\s])\", \"\", text)\n",
        "# text = re.sub(\"^RT\", \"\", text) #removes retweets\n",
        "# text"
      ],
      "execution_count": null,
      "outputs": [
        {
          "output_type": "execute_result",
          "data": {
            "application/vnd.google.colaboratory.intrinsic+json": {
              "type": "string"
            },
            "text/plain": [
              "'Youll  my PitchWars book if you like  hatetolove  OwnVoices AceAro rep  subdued mythology  rideordie queerplatonic bonds  fast pace high risk  star and plant imagery everywhere  getting punched in your emotions PWParty20 '"
            ]
          },
          "metadata": {
            "tags": []
          },
          "execution_count": 20
        }
      ]
    },
    {
      "cell_type": "code",
      "metadata": {
        "id": "02Z23Lo55YhT"
      },
      "source": [
        "text = \"RT QT @SkySportsNews: You'll 🚨, :) mastrubate \\nचीनी मोबाइल कंपनी रियलमी ने अपना Realme\\n V15 5G स्मार्टफोन लॉन्च कर दिया है #smartphone https://t.co/Y2hxc5fSCO. We are the pioneers of 64MP Smartphone Camera technology in India. #realmeX7Pro ; We are the pioneers of Smartphone Camera technology in India. Part 2/3 of giveaway, RT & reply using #realmeX7Pro. bhai, Mera Sawaal ye hai kya micromax lava 5G Smartphones launch karegene with acchi features ke saath me aur kam price 5-15k??? Mera Dursa sawaal ye hai ke BSNL 4G launch kare jaldi me india me?? Aap ke bade kasie hai ; #Askruhez Lagao aur sunday Q & A ke liye jo chahe sawaal kariye ✌️\""
      ],
      "execution_count": null,
      "outputs": []
    },
    {
      "cell_type": "code",
      "metadata": {
        "id": "HLw98gda5-3i"
      },
      "source": [
        "def basic_clean(text):\n",
        "    text = BeautifulSoup(text, 'lxml').get_text() #links\n",
        "    text = re.sub('https?://\\S+|www\\.\\S+', '', text) #links\n",
        "    text = re.sub(' +', ' ', text) \n",
        "    text = re.sub(\"^RT\", \"\", text) #remove RT\n",
        "    text = re.sub(' +', ' ', text) \n",
        "    text = re.sub(\"^QT\", \"\", text) #remove QT\n",
        "    text = re.sub(' +', ' ', text) \n",
        "    text = re.sub('\\n', \" \", text) #newlines\n",
        "    text = re.sub(' +', ' ', text) \n",
        "    text = str(text).lower() #makes everything lowercase\n",
        "    emoji_pattern = re.compile(\"[\"\n",
        "                          \"\\U0001F1E0-\\U0001F1FF\"  # flags (iOS)\n",
        "                          \"\\U0001F300-\\U0001F5FF\"  # symbols & pictographs\n",
        "                          \"\\U0001F600-\\U0001F64F\"  # emoticons\n",
        "                          \"\\U0001F680-\\U0001F6FF\"  # transport & map symbols\n",
        "                          \"\\U0001F700-\\U0001F77F\"  # alchemical symbols\n",
        "                          \"\\U0001F780-\\U0001F7FF\"  # Geometric Shapes Extended\n",
        "                          \"\\U0001F800-\\U0001F8FF\"  # Supplemental Arrows-C\n",
        "                          \"\\U0001F900-\\U0001F9FF\"  # Supplemental Symbols and Pictographs\n",
        "                          \"\\U0001FA00-\\U0001FA6F\"  # Chess Symbols\n",
        "                          \"\\U0001FA70-\\U0001FAFF\"  # Symbols and Pictographs Extended-A\n",
        "                          \"\\U00002702-\\U000027B0\"  # Dingbats\n",
        "                          \"\\U000024C2-\\U0001F251\"\n",
        "                           \"]+\", flags=re.UNICODE)\n",
        "    text = emoji_pattern.sub(r' ', text)\n",
        "    text = re.sub(' +', ' ', text) \n",
        "    return text.replace('@', ' ') #removes @ from mentions and user-handles, does not remove the handle itself\n"
      ],
      "execution_count": null,
      "outputs": []
    },
    {
      "cell_type": "code",
      "metadata": {
        "colab": {
          "base_uri": "https://localhost:8080/",
          "height": 122
        },
        "id": "OJIdv7X9lL9P",
        "outputId": "c68aa7ec-7716-485c-ee16-fbe5b70b4914"
      },
      "source": [
        "basic_clean(text)\n"
      ],
      "execution_count": null,
      "outputs": [
        {
          "output_type": "execute_result",
          "data": {
            "application/vnd.google.colaboratory.intrinsic+json": {
              "type": "string"
            },
            "text/plain": [
              "\" skysportsnews: you'll , :) mastrubate चीनी मोबाइल कंपनी रियलमी ने अपना realme v15 5g स्मार्टफोन लॉन्च कर दिया है #smartphone we are the pioneers of 64mp smartphone camera technology in india. #realmex7pro ; we are the pioneers of smartphone camera technology in india. part 2/3 of giveaway, rt & reply using #realmex7pro. bhai, mera sawaal ye hai kya micromax lava 5g smartphones launch karegene with acchi features ke saath me aur kam price 5-15k??? mera dursa sawaal ye hai ke bsnl 4g launch kare jaldi me india me?? aap ke bade kasie hai ; #askruhez lagao aur sunday q & a ke liye jo chahe sawaal kariye \""
            ]
          },
          "metadata": {
            "tags": []
          },
          "execution_count": 69
        }
      ]
    },
    {
      "cell_type": "code",
      "metadata": {
        "id": "wdb-pnfGqAD0"
      },
      "source": [
        "contraction_mapping = {\"ain't\": \"is not\", \"aren't\": \"are not\",\"can't\": \"cannot\", \"'cause\": \"because\", \"could've\": \"could have\", \"couldn't\": \"could not\", \n",
        "                       \"didn't\": \"did not\",  \"doesn't\": \"does not\", \"don't\": \"do not\", \"hadn't\": \"had not\", \"hasn't\": \"has not\", \"haven't\": \"have not\", \n",
        "                       \"he'd\": \"he would\",\"he'll\": \"he will\", \"he's\": \"he is\", \"how'd\": \"how did\", \"how'd'y\": \"how do you\", \"how'll\": \"how will\", \n",
        "                       \"how's\": \"how is\",  \"I'd\": \"I would\", \"I'd've\": \"I would have\", \"I'll\": \"I will\", \"I'll've\": \"I will have\",\"I'm\": \"I am\",\n",
        "                       \"I've\": \"I have\", \"i'd\": \"i would\", \"i'd've\": \"i would have\", \"i'll\": \"i will\",  \"i'll've\": \"i will have\",\"i'm\": \"i am\", \n",
        "                       \"i've\": \"i have\", \"isn't\": \"is not\", \"it'd\": \"it would\", \"it'd've\": \"it would have\", \"it'll\": \"it will\", \"it'll've\": \"it will have\",\n",
        "                       \"it's\": \"it is\", \"let's\": \"let us\", \"ma'am\": \"madam\", \"mayn't\": \"may not\", \"might've\": \"might have\",\"mightn't\": \"might not\",\n",
        "                       \"mightn't've\": \"might not have\", \"must've\": \"must have\", \"mustn't\": \"must not\", \"mustn't've\": \"must not have\", \"needn't\": \"need not\", \n",
        "                       \"needn't've\": \"need not have\",\"o'clock\": \"of the clock\", \"oughtn't\": \"ought not\", \"oughtn't've\": \"ought not have\", \"shan't\": \"shall not\",\n",
        "                       \"sha'n't\": \"shall not\", \"shan't've\": \"shall not have\", \"she'd\": \"she would\", \"she'd've\": \"she would have\", \"she'll\": \"she will\", \n",
        "                       \"she'll've\": \"she will have\", \"she's\": \"she is\", \"should've\": \"should have\", \"shouldn't\": \"should not\", \"shouldn't've\": \"should not have\",\n",
        "                       \"so've\": \"so have\",\"so's\": \"so as\", \"this's\": \"this is\",\"that'd\": \"that would\", \"that'd've\": \"that would have\", \"that's\": \"that is\",\n",
        "                       \"there'd\": \"there would\", \"there'd've\": \"there would have\", \"there's\": \"there is\", \"here's\": \"here is\",\"they'd\": \"they would\",\n",
        "                       \"they'd've\": \"they would have\", \"they'll\": \"they will\", \"they'll've\": \"they will have\", \"they're\": \"they are\", \"they've\": \"they have\",\n",
        "                       \"to've\": \"to have\", \"wasn't\": \"was not\", \"we'd\": \"we would\", \"we'd've\": \"we would have\", \"we'll\": \"we will\", \"we'll've\": \"we will have\",\n",
        "                       \"we're\": \"we are\", \"we've\": \"we have\", \"weren't\": \"were not\", \"what'll\": \"what will\", \"what'll've\": \"what will have\", \n",
        "                       \"what're\": \"what are\",  \"what's\": \"what is\", \"what've\": \"what have\", \"when's\": \"when is\", \"when've\": \"when have\", \"where'd\": \"where did\",\n",
        "                       \"where's\": \"where is\", \"where've\": \"where have\", \"who'll\": \"who will\", \"who'll've\": \"who will have\", \"who's\": \"who is\", \n",
        "                       \"who've\": \"who have\", \"why's\": \"why is\", \"why've\": \"why have\", \"will've\": \"will have\", \"won't\": \"will not\", \"won't've\": \"will not have\", \n",
        "                       \"would've\": \"would have\", \"wouldn't\": \"would not\", \"wouldn't've\": \"would not have\", \"y'all\": \"you all\", \"y'all'd\": \"you all would\",\n",
        "                       \"y'all'd've\": \"you all would have\",\"y'all're\": \"you all are\",\"y'all've\": \"you all have\",\"you'd\": \"you would\", \"you'd've\": \"you would have\",\n",
        "                       \"you'll\": \"you will\", \"you'll've\": \"you will have\", \"you're\": \"you are\", \"you've\": \"you have\", 'u.s':'america', 'e.g':'for example'}\n",
        "\n",
        "punct = [',', '।', '.', '\"', ':', ')', '(', '-', '!', '?', '|', ';', \"'\", '$', '&', '/', '[', ']', '>', '%', '=', '*', '+', '\\\\', '•',  '~', '@', '£', \n",
        " '·', '_', '{', '}', '©', '^', '®', '`',  '<', '→', '°', '€', '™', '›',  '♥', '←', '×', '§', '″', '′', 'Â', '█', '½', 'à', '…', \n",
        " '“', '★', '”', '–', '●', 'â', '►', '−', '¢', '²', '¬', '░', '¶', '↑', '±', '¿', '▾', '═', '¦', '║', '―', '¥', '▓', '—', '‹', '─', \n",
        " '▒', '：', '¼', '⊕', '▼', '▪', '†', '■', '’', '▀', '¨', '▄', '♫', '☆', 'é', '¯', '♦', '¤', '▲', 'è', '¸', '¾', 'Ã', '⋅', '‘', '∞', \n",
        " '∙', '）', '↓', '、', '│', '（', '»', '，', '♪', '╩', '╚', '³', '・', '╦', '╣', '╔', '╗', '▬', '❤', 'ï', 'Ø', '¹', '≤', '‡', '√', ]\n",
        "\n",
        "punct_mapping = {\"‘\": \"'\", \"₹\": \"e\", \"´\": \"'\", \"°\": \"\", \"€\": \"e\", \"™\": \"tm\", \"√\": \" sqrt \", \"×\": \"x\", \"²\": \"2\", \"—\": \"-\", \"–\": \"-\", \"’\": \"'\", \"_\": \"-\",\n",
        "                 \"`\": \"'\", '“': '\"', '”': '\"', '“': '\"', \"£\": \"e\", '∞': 'infinity', 'θ': 'theta', '÷': '/', 'α': 'alpha', '•': '.', 'à': 'a', '−': '-', \n",
        "                 'β': 'beta', '∅': '', '³': '3', 'π': 'pi', '!':' '}\n",
        "\n",
        "mispell_dict = {'colour': 'color', 'centre': 'center', 'favourite': 'favorite', 'travelling': 'traveling', 'counselling': 'counseling', 'theatre': 'theater',\n",
        "                'cancelled': 'canceled', 'labour': 'labor', 'organisation': 'organization', 'wwii': 'world war 2', 'citicise': 'criticize', 'youtu ': 'youtube ',\n",
        "                'Qoura': 'Quora', 'sallary': 'salary', 'Whta': 'What', 'narcisist': 'narcissist', 'howdo': 'how do', 'whatare': 'what are', 'howcan': 'how can',\n",
        "                'howmuch': 'how much', 'howmany': 'how many', 'whydo': 'why do', 'doI': 'do I', 'theBest': 'the best', 'howdoes': 'how does', \n",
        "                'mastrubation': 'masturbation', 'mastrubate': 'masturbate', \"mastrubating\": 'masturbating', 'pennis': 'penis', 'Etherium': 'Ethereum', \n",
        "                'narcissit': 'narcissist', 'bigdata': 'big data', '2k17': '2017', '2k18': '2018', 'qouta': 'quota', 'exboyfriend': 'ex boyfriend', \n",
        "                'airhostess': 'air hostess', \"whst\": 'what', 'watsapp': 'whatsapp', 'demonitisation': 'demonetization', 'demonitization': 'demonetization',\n",
        "                'demonetisation': 'demonetization'}"
      ],
      "execution_count": null,
      "outputs": []
    },
    {
      "cell_type": "code",
      "metadata": {
        "id": "HWyyaQz_tI54"
      },
      "source": [
        "text2 =\"skysportsnews: ain't you'll , :) ■ ═ ₹ mastrubate day-to-day चीनी मोबाइल कंपनी रियलमी ने अपना । | (one) [xyz] {678} \\? / one_two realme v15 5g स्मार्टफोन लॉन्च कर दिया है  they’re #smartphone we are the pioneers of 64mp smartphone camera technology in india. #realmex7pro ; we are the pioneers of smartphone camera technology in india. part 2/3 of giveaway, rt & reply using #realmex7pro. bhai, mera sawaal ye hai kya micromax lava 5g smartphones launch karegene with acchi features ke saath me aur kam price 5-15k??? mera dursa sawaal ye hai ke bsnl 4g launch kare jaldi me india me?? aap ke bade kasie hai ; #askruhez lagao aur sunday q & a ke liye jo chahe sawaal kariye \""
      ],
      "execution_count": null,
      "outputs": []
    },
    {
      "cell_type": "code",
      "metadata": {
        "id": "5S9v979vvH6K"
      },
      "source": [
        "def clean_contractions(text, mapping):\n",
        "    '''Clean contraction using contraction mapping'''    \n",
        "    specials = [\"’\", \"‘\", \"´\", \"`\"]\n",
        "    for s in specials:\n",
        "        text = text.replace(s, \"'\")\n",
        "    for word in mapping.keys():\n",
        "        if \"\"+word+\"\" in text:\n",
        "            text = text.replace(\"\"+word+\"\", \"\"+mapping[word]+\"\")\n",
        "    #Remove Punctuations\n",
        "    text = re.sub('[%s]' % re.escape(string.punctuation), ' ', text)\n",
        "    # creating a space between a word and the punctuation following it\n",
        "    # eg: \"he is a boy.\" => \"he is a boy .\"\n",
        "    text = re.sub(r\"([?.!,¿])\", r\" \\1 \", text)\n",
        "    text = re.sub(r'[\" \"]+', \" \", text)\n",
        "    return text"
      ],
      "execution_count": null,
      "outputs": []
    },
    {
      "cell_type": "code",
      "metadata": {
        "colab": {
          "base_uri": "https://localhost:8080/",
          "height": 122
        },
        "id": "WmVuSRwxvbgp",
        "outputId": "652db677-3b56-4429-f720-c8a20d64fee5"
      },
      "source": [
        "z = clean_contractions(text2, contraction_mapping)\n",
        "z"
      ],
      "execution_count": null,
      "outputs": [
        {
          "output_type": "execute_result",
          "data": {
            "application/vnd.google.colaboratory.intrinsic+json": {
              "type": "string"
            },
            "text/plain": [
              "'skysportsnews is not you will ■ ═ ₹ mastrubate day to day चीनी मोबाइल कंपनी रियलमी ने अपना । one xyz 678 one two realme v15 5g स्मार्टफोन लॉन्च कर दिया है they are smartphone we are the pioneers of 64mp smartphone camera technology in india realmex7pro we are the pioneers of smartphone camera technology in india part 2 3 of giveaway rt reply using realmex7pro bhai mera sawaal ye hai kya micromax lava 5g smartphones launch karegene with acchi features ke saath me aur kam price 5 15k mera dursa sawaal ye hai ke bsnl 4g launch kare jaldi me india me aap ke bade kasie hai askruhez lagao aur sunday q a ke liye jo chahe sawaal kariye '"
            ]
          },
          "metadata": {
            "tags": []
          },
          "execution_count": 109
        }
      ]
    },
    {
      "cell_type": "code",
      "metadata": {
        "colab": {
          "base_uri": "https://localhost:8080/",
          "height": 122
        },
        "id": "EDYhSYgovi2j",
        "outputId": "a14ee0b9-7089-4c1d-a391-ac1a8ae92ab3"
      },
      "source": [
        "def correct_spelling(x, dic):\n",
        "    '''Corrects common spelling errors'''   \n",
        "    for word in dic.keys():\n",
        "        x = x.replace(word, dic[word])\n",
        "    return x\n",
        "z1 = correct_spelling(z, mispell_dict)\n",
        "z1"
      ],
      "execution_count": null,
      "outputs": [
        {
          "output_type": "execute_result",
          "data": {
            "application/vnd.google.colaboratory.intrinsic+json": {
              "type": "string"
            },
            "text/plain": [
              "'skysportsnews is not you will ■ ═ ₹ masturbate day to day चीनी मोबाइल कंपनी रियलमी ने अपना । one xyz 678 one two realme v15 5g स्मार्टफोन लॉन्च कर दिया है they are smartphone we are the pioneers of 64mp smartphone camera technology in india realmex7pro we are the pioneers of smartphone camera technology in india part 2 3 of giveaway rt reply using realmex7pro bhai mera sawaal ye hai kya micromax lava 5g smartphones launch karegene with acchi features ke saath me aur kam price 5 15k mera dursa sawaal ye hai ke bsnl 4g launch kare jaldi me india me aap ke bade kasie hai askruhez lagao aur sunday q a ke liye jo chahe sawaal kariye '"
            ]
          },
          "metadata": {
            "tags": []
          },
          "execution_count": 96
        }
      ]
    },
    {
      "cell_type": "code",
      "metadata": {
        "colab": {
          "base_uri": "https://localhost:8080/",
          "height": 122
        },
        "id": "IjlBas1FyMTq",
        "outputId": "712eecf5-f935-46fd-df23-3133f8da7cb1"
      },
      "source": [
        "def clean_special_chars(text, punct, mapping):\n",
        "    '''Cleans special characters present(if any)'''   \n",
        "    for p in mapping:\n",
        "        text = text.replace(p, mapping[p])\n",
        "    \n",
        "    for p in punct:\n",
        "        text = text.replace(p, '')\n",
        "    text = text.strip()\n",
        "    text = text.split()\n",
        "    return \" \".join(text)\n",
        "    #return text\n",
        "clean_special_chars(z1, punct, punct_mapping)"
      ],
      "execution_count": null,
      "outputs": [
        {
          "output_type": "execute_result",
          "data": {
            "application/vnd.google.colaboratory.intrinsic+json": {
              "type": "string"
            },
            "text/plain": [
              "'skysportsnews is not you will e masturbate day to day चीनी मोबाइल कंपनी रियलमी ने अपना one xyz 678 one two realme v15 5g स्मार्टफोन लॉन्च कर दिया है they are smartphone we are the pioneers of 64mp smartphone camera technology in india realmex7pro we are the pioneers of smartphone camera technology in india part 2 3 of giveaway rt reply using realmex7pro bhai mera sawaal ye hai kya micromax lava 5g smartphones launch karegene with acchi features ke saath me aur kam price 5 15k mera dursa sawaal ye hai ke bsnl 4g launch kare jaldi me india me aap ke bade kasie hai askruhez lagao aur sunday q a ke liye jo chahe sawaal kariye'"
            ]
          },
          "metadata": {
            "tags": []
          },
          "execution_count": 101
        }
      ]
    },
    {
      "cell_type": "code",
      "metadata": {
        "colab": {
          "base_uri": "https://localhost:8080/"
        },
        "id": "sHvB3Ywy1oOR",
        "outputId": "78fbe5ee-29d3-48fa-b4ae-5e32a5e4584e"
      },
      "source": [
        "pip install wordsegment"
      ],
      "execution_count": null,
      "outputs": [
        {
          "output_type": "stream",
          "text": [
            "Collecting wordsegment\n",
            "\u001b[?25l  Downloading https://files.pythonhosted.org/packages/cf/6c/e6f4734d6f7d28305f52ec81377d7ce7d1856b97b814278e9960183235ad/wordsegment-1.3.1-py2.py3-none-any.whl (4.8MB)\n",
            "\u001b[K     |████████████████████████████████| 4.8MB 5.6MB/s \n",
            "\u001b[?25hInstalling collected packages: wordsegment\n",
            "Successfully installed wordsegment-1.3.1\n"
          ],
          "name": "stdout"
        }
      ]
    },
    {
      "cell_type": "code",
      "metadata": {
        "id": "WpmBVMKd6PTm"
      },
      "source": [
        "import wordsegment"
      ],
      "execution_count": null,
      "outputs": []
    },
    {
      "cell_type": "code",
      "metadata": {
        "colab": {
          "base_uri": "https://localhost:8080/"
        },
        "id": "MlC4vWdK6W3w",
        "outputId": "d3e48cca-0b48-4094-e41e-82383120d2e1"
      },
      "source": [
        "from wordsegment import load, segment\n",
        "load()\n",
        "segment('thisisatest')"
      ],
      "execution_count": null,
      "outputs": [
        {
          "output_type": "execute_result",
          "data": {
            "text/plain": [
              "['this', 'is', 'a', 'test']"
            ]
          },
          "metadata": {
            "tags": []
          },
          "execution_count": 112
        }
      ]
    },
    {
      "cell_type": "code",
      "metadata": {
        "colab": {
          "base_uri": "https://localhost:8080/"
        },
        "id": "3gzaz40q6Y8E",
        "outputId": "0bf1ce22-d5e7-4a8c-fbf8-6843f557055c"
      },
      "source": [
        "segment('nokiasucks')"
      ],
      "execution_count": null,
      "outputs": [
        {
          "output_type": "execute_result",
          "data": {
            "text/plain": [
              "['nokia', 'sucks']"
            ]
          },
          "metadata": {
            "tags": []
          },
          "execution_count": 113
        }
      ]
    },
    {
      "cell_type": "code",
      "metadata": {
        "colab": {
          "base_uri": "https://localhost:8080/"
        },
        "id": "zU4g2g106c6X",
        "outputId": "b4f99e8f-80a0-4bc9-9002-528e4435948f"
      },
      "source": [
        "segment('#samsungrocks')"
      ],
      "execution_count": null,
      "outputs": [
        {
          "output_type": "execute_result",
          "data": {
            "text/plain": [
              "['samsung', 'rocks']"
            ]
          },
          "metadata": {
            "tags": []
          },
          "execution_count": 114
        }
      ]
    },
    {
      "cell_type": "code",
      "metadata": {
        "colab": {
          "base_uri": "https://localhost:8080/"
        },
        "id": "nmszjjRr6iAv",
        "outputId": "3d9ab88f-045d-4c0d-ee4d-1e9d47acf85c"
      },
      "source": [
        "segment('everything')"
      ],
      "execution_count": null,
      "outputs": [
        {
          "output_type": "execute_result",
          "data": {
            "text/plain": [
              "['everything']"
            ]
          },
          "metadata": {
            "tags": []
          },
          "execution_count": 115
        }
      ]
    },
    {
      "cell_type": "code",
      "metadata": {
        "colab": {
          "base_uri": "https://localhost:8080/"
        },
        "id": "7Q8I0KxI6mvy",
        "outputId": "d7fcdd17-6ac7-4b3f-d8e7-d302ec2e2283"
      },
      "source": [
        "segment('everyday')"
      ],
      "execution_count": null,
      "outputs": [
        {
          "output_type": "execute_result",
          "data": {
            "text/plain": [
              "['everyday']"
            ]
          },
          "metadata": {
            "tags": []
          },
          "execution_count": 116
        }
      ]
    },
    {
      "cell_type": "code",
      "metadata": {
        "colab": {
          "base_uri": "https://localhost:8080/"
        },
        "id": "g4R0il896o_n",
        "outputId": "8cc33089-6515-407f-a9c2-627a86c8f1ee"
      },
      "source": [
        "segment(\"redmiisamazing\")"
      ],
      "execution_count": null,
      "outputs": [
        {
          "output_type": "execute_result",
          "data": {
            "text/plain": [
              "['red', 'mi', 'is', 'amazing']"
            ]
          },
          "metadata": {
            "tags": []
          },
          "execution_count": 117
        }
      ]
    },
    {
      "cell_type": "code",
      "metadata": {
        "colab": {
          "base_uri": "https://localhost:8080/"
        },
        "id": "cZC8koS66tec",
        "outputId": "e9a2c2c7-809e-4afd-8bcd-e7bc43cf14d5"
      },
      "source": [
        "segment(\"xiaomisucks\")"
      ],
      "execution_count": null,
      "outputs": [
        {
          "output_type": "execute_result",
          "data": {
            "text/plain": [
              "['xiao', 'mi', 'sucks']"
            ]
          },
          "metadata": {
            "tags": []
          },
          "execution_count": 118
        }
      ]
    },
    {
      "cell_type": "code",
      "metadata": {
        "colab": {
          "base_uri": "https://localhost:8080/"
        },
        "id": "d7bpWeH36xTw",
        "outputId": "ed79f90b-8ebf-4e88-b690-74bb0a0d9f76"
      },
      "source": [
        "segment('iPhonesucks')"
      ],
      "execution_count": null,
      "outputs": [
        {
          "output_type": "execute_result",
          "data": {
            "text/plain": [
              "['i', 'phone', 'sucks']"
            ]
          },
          "metadata": {
            "tags": []
          },
          "execution_count": 119
        }
      ]
    },
    {
      "cell_type": "code",
      "metadata": {
        "colab": {
          "base_uri": "https://localhost:8080/"
        },
        "id": "U4-e23Mx7B5k",
        "outputId": "85dc7a8f-86a1-470e-d821-838d9105ca0c"
      },
      "source": [
        "segment('applesucksballs')"
      ],
      "execution_count": null,
      "outputs": [
        {
          "output_type": "execute_result",
          "data": {
            "text/plain": [
              "['apple', 'sucks', 'balls']"
            ]
          },
          "metadata": {
            "tags": []
          },
          "execution_count": 120
        }
      ]
    },
    {
      "cell_type": "code",
      "metadata": {
        "colab": {
          "base_uri": "https://localhost:8080/"
        },
        "id": "lfFfPMssAaiG",
        "outputId": "a0aa83e4-3aae-4bde-8745-b37e34041508"
      },
      "source": [
        "segment('IHATEONEPLUS')"
      ],
      "execution_count": null,
      "outputs": [
        {
          "output_type": "execute_result",
          "data": {
            "text/plain": [
              "['i', 'hate', 'one', 'plus']"
            ]
          },
          "metadata": {
            "tags": []
          },
          "execution_count": 121
        }
      ]
    },
    {
      "cell_type": "code",
      "metadata": {
        "colab": {
          "base_uri": "https://localhost:8080/"
        },
        "id": "y4VmiG0eAelc",
        "outputId": "774d98ba-e3e2-4558-d858-8a017b4f9add"
      },
      "source": [
        "segment('XiaomiBest')"
      ],
      "execution_count": null,
      "outputs": [
        {
          "output_type": "execute_result",
          "data": {
            "text/plain": [
              "['xiao', 'mi', 'best']"
            ]
          },
          "metadata": {
            "tags": []
          },
          "execution_count": 122
        }
      ]
    },
    {
      "cell_type": "code",
      "metadata": {
        "colab": {
          "base_uri": "https://localhost:8080/"
        },
        "id": "aDqCbqoMA-V0",
        "outputId": "772323d1-a53e-4a3b-a03c-552785f672e0"
      },
      "source": [
        "segment(\"NokiaRocks\")"
      ],
      "execution_count": null,
      "outputs": [
        {
          "output_type": "execute_result",
          "data": {
            "text/plain": [
              "['nokia', 'rocks']"
            ]
          },
          "metadata": {
            "tags": []
          },
          "execution_count": 123
        }
      ]
    },
    {
      "cell_type": "code",
      "metadata": {
        "colab": {
          "base_uri": "https://localhost:8080/"
        },
        "id": "yfIlGmkIBPDw",
        "outputId": "c96448d1-22e0-4e70-8a73-1073041ad2fe"
      },
      "source": [
        "segment(\"ILoveNewYork\")"
      ],
      "execution_count": null,
      "outputs": [
        {
          "output_type": "execute_result",
          "data": {
            "text/plain": [
              "['i', 'love', 'new', 'york']"
            ]
          },
          "metadata": {
            "tags": []
          },
          "execution_count": 124
        }
      ]
    },
    {
      "cell_type": "code",
      "metadata": {
        "colab": {
          "base_uri": "https://localhost:8080/"
        },
        "id": "MeC3lpjZBeti",
        "outputId": "a98a1a7c-de8e-4f61-8530-5145a0c307c4"
      },
      "source": [
        "segment(\"Ubisoft\")"
      ],
      "execution_count": null,
      "outputs": [
        {
          "output_type": "execute_result",
          "data": {
            "text/plain": [
              "['ubisoft']"
            ]
          },
          "metadata": {
            "tags": []
          },
          "execution_count": 125
        }
      ]
    },
    {
      "cell_type": "code",
      "metadata": {
        "colab": {
          "base_uri": "https://localhost:8080/"
        },
        "id": "aI_HQ_8PB1HZ",
        "outputId": "10900904-59b3-4845-f2a7-1495bfcfefb9"
      },
      "source": [
        "segment(\"#WNBA\")"
      ],
      "execution_count": null,
      "outputs": [
        {
          "output_type": "execute_result",
          "data": {
            "text/plain": [
              "['wnba']"
            ]
          },
          "metadata": {
            "tags": []
          },
          "execution_count": 127
        }
      ]
    },
    {
      "cell_type": "code",
      "metadata": {
        "id": "OkTEN1utB81n"
      },
      "source": [
        ""
      ],
      "execution_count": null,
      "outputs": []
    }
  ]
}