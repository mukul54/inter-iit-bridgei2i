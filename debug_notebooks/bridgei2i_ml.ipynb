{
  "nbformat": 4,
  "nbformat_minor": 0,
  "metadata": {
    "colab": {
      "name": "bridgei2i-ml.ipynb",
      "provenance": []
    },
    "kernelspec": {
      "name": "python3",
      "display_name": "Python 3"
    }
  },
  "cells": [
    {
      "cell_type": "code",
      "metadata": {
        "colab": {
          "base_uri": "https://localhost:8080/"
        },
        "id": "xukbhKlA1mUl",
        "outputId": "90efafe4-c910-49af-b460-8d4e469f773f"
      },
      "source": [
        "%cd 'drive/MyDrive/Bridgei2i/Development Data'"
      ],
      "execution_count": null,
      "outputs": [
        {
          "output_type": "stream",
          "text": [
            "/content/drive/MyDrive/Bridgei2i/Development Data\n"
          ],
          "name": "stdout"
        }
      ]
    },
    {
      "cell_type": "code",
      "metadata": {
        "id": "xEqJTsFf1mt0"
      },
      "source": [
        "import numpy as np\r\n",
        "import pandas as pd\r\n",
        "\r\n",
        "df = pd.read_excel('dev_data_tweet_cleaned_v2.xlsx')"
      ],
      "execution_count": null,
      "outputs": []
    },
    {
      "cell_type": "code",
      "metadata": {
        "id": "wZZDD4t51mzN"
      },
      "source": [
        "df = df.drop('Unnamed: 0', 1)"
      ],
      "execution_count": null,
      "outputs": []
    },
    {
      "cell_type": "code",
      "metadata": {
        "colab": {
          "base_uri": "https://localhost:8080/",
          "height": 402
        },
        "id": "Vk2SU6Oj1m00",
        "outputId": "e28ddb8d-f59e-48d2-b0bf-8795c1c3a928"
      },
      "source": [
        "df"
      ],
      "execution_count": null,
      "outputs": [
        {
          "output_type": "execute_result",
          "data": {
            "text/html": [
              "<div>\n",
              "<style scoped>\n",
              "    .dataframe tbody tr th:only-of-type {\n",
              "        vertical-align: middle;\n",
              "    }\n",
              "\n",
              "    .dataframe tbody tr th {\n",
              "        vertical-align: top;\n",
              "    }\n",
              "\n",
              "    .dataframe thead th {\n",
              "        text-align: right;\n",
              "    }\n",
              "</style>\n",
              "<table border=\"1\" class=\"dataframe\">\n",
              "  <thead>\n",
              "    <tr style=\"text-align: right;\">\n",
              "      <th></th>\n",
              "      <th>Tweet_ID</th>\n",
              "      <th>Tweet</th>\n",
              "      <th>Mobile_Tech_Tag</th>\n",
              "      <th>cleaned_tweet</th>\n",
              "    </tr>\n",
              "  </thead>\n",
              "  <tbody>\n",
              "    <tr>\n",
              "      <th>0</th>\n",
              "      <td>tweet_0001</td>\n",
              "      <td>You'll 💜 my #PitchWars book if you like: 🦋 hat...</td>\n",
              "      <td>0</td>\n",
              "      <td>You ll  purple heart  my  PitchWars book if yo...</td>\n",
              "    </tr>\n",
              "    <tr>\n",
              "      <th>1</th>\n",
              "      <td>tweet_0002</td>\n",
              "      <td>RT @SkySportsNews: 🚨 Breaking: #WBA have reach...</td>\n",
              "      <td>0</td>\n",
              "      <td>RT  SkySportsNews   police car light  Breaking...</td>\n",
              "    </tr>\n",
              "    <tr>\n",
              "      <th>2</th>\n",
              "      <td>tweet_0003</td>\n",
              "      <td>RT @stealyoman_cuso: really says a lot about s...</td>\n",
              "      <td>0</td>\n",
              "      <td>RT  stealyoman cuso  really says a lot about s...</td>\n",
              "    </tr>\n",
              "    <tr>\n",
              "      <th>3</th>\n",
              "      <td>tweet_0004</td>\n",
              "      <td>RT @PGtzsche1: HPV vaccines increased serious ...</td>\n",
              "      <td>0</td>\n",
              "      <td>RT  PGtzsche1  HPV vaccines increased serious ...</td>\n",
              "    </tr>\n",
              "    <tr>\n",
              "      <th>4</th>\n",
              "      <td>tweet_0005</td>\n",
              "      <td>Ramaphosa says if you are positive you must se...</td>\n",
              "      <td>0</td>\n",
              "      <td>Ramaphosa says if you are positive you must se...</td>\n",
              "    </tr>\n",
              "    <tr>\n",
              "      <th>...</th>\n",
              "      <td>...</td>\n",
              "      <td>...</td>\n",
              "      <td>...</td>\n",
              "      <td>...</td>\n",
              "    </tr>\n",
              "    <tr>\n",
              "      <th>3995</th>\n",
              "      <td>tweet_3996</td>\n",
              "      <td>RT @ZeeNews: चीनी मोबाइल कंपनी रियलमी ने अपना ...</td>\n",
              "      <td>1</td>\n",
              "      <td>RT  ZeeNews  Chinese mobile company Realme has...</td>\n",
              "    </tr>\n",
              "    <tr>\n",
              "      <th>3996</th>\n",
              "      <td>tweet_3997</td>\n",
              "      <td>RT @ZeeNews: चीनी मोबाइल कंपनी रियलमी ने अपना ...</td>\n",
              "      <td>1</td>\n",
              "      <td>RT  ZeeNews  Chinese mobile company Realme has...</td>\n",
              "    </tr>\n",
              "    <tr>\n",
              "      <th>3997</th>\n",
              "      <td>tweet_3998</td>\n",
              "      <td>चीनी मोबाइल कंपनी रियलमी ने अपना Realme V15 5G...</td>\n",
              "      <td>1</td>\n",
              "      <td>Chinese mobile company Realme has launched its...</td>\n",
              "    </tr>\n",
              "    <tr>\n",
              "      <th>3998</th>\n",
              "      <td>tweet_3999</td>\n",
              "      <td>QT @AnjaliSingh_IN: Aapne phone hi galat choos...</td>\n",
              "      <td>1</td>\n",
              "      <td>QT  AnjaliSingh IN  Aapne phone hi galat choos...</td>\n",
              "    </tr>\n",
              "    <tr>\n",
              "      <th>3999</th>\n",
              "      <td>tweet_4000</td>\n",
              "      <td>QT @ManojSaru: पर bhaib5g इंडिया में कब आयेगा।...</td>\n",
              "      <td>1</td>\n",
              "      <td>QT  ManojSaru  When will bhaib5g arrive in Ind...</td>\n",
              "    </tr>\n",
              "  </tbody>\n",
              "</table>\n",
              "<p>4000 rows × 4 columns</p>\n",
              "</div>"
            ],
            "text/plain": [
              "        Tweet_ID  ...                                      cleaned_tweet\n",
              "0     tweet_0001  ...  You ll  purple heart  my  PitchWars book if yo...\n",
              "1     tweet_0002  ...  RT  SkySportsNews   police car light  Breaking...\n",
              "2     tweet_0003  ...  RT  stealyoman cuso  really says a lot about s...\n",
              "3     tweet_0004  ...  RT  PGtzsche1  HPV vaccines increased serious ...\n",
              "4     tweet_0005  ...  Ramaphosa says if you are positive you must se...\n",
              "...          ...  ...                                                ...\n",
              "3995  tweet_3996  ...  RT  ZeeNews  Chinese mobile company Realme has...\n",
              "3996  tweet_3997  ...  RT  ZeeNews  Chinese mobile company Realme has...\n",
              "3997  tweet_3998  ...  Chinese mobile company Realme has launched its...\n",
              "3998  tweet_3999  ...  QT  AnjaliSingh IN  Aapne phone hi galat choos...\n",
              "3999  tweet_4000  ...  QT  ManojSaru  When will bhaib5g arrive in Ind...\n",
              "\n",
              "[4000 rows x 4 columns]"
            ]
          },
          "metadata": {
            "tags": []
          },
          "execution_count": 4
        }
      ]
    },
    {
      "cell_type": "code",
      "metadata": {
        "id": "EqHbEG531m3W"
      },
      "source": [
        "X = df['cleaned_tweet']\r\n",
        "Y = df['Mobile_Tech_Tag']"
      ],
      "execution_count": null,
      "outputs": []
    },
    {
      "cell_type": "code",
      "metadata": {
        "id": "b-b9eMxG4eBX"
      },
      "source": [
        "import sklearn\r\n",
        "from sklearn.feature_extraction.text import CountVectorizer\r\n",
        "from nltk.tokenize import RegexpTokenizer\r\n",
        "token = RegexpTokenizer(r'[a-zA-Z0-9]+')\r\n",
        "cv = CountVectorizer(stop_words='english',ngram_range = (1,2),tokenizer = token.tokenize)\r\n",
        "text_counts = cv.fit_transform(df['cleaned_tweet'])"
      ],
      "execution_count": null,
      "outputs": []
    },
    {
      "cell_type": "code",
      "metadata": {
        "id": "N4uDmHdh4eD6"
      },
      "source": [
        "from sklearn.model_selection import train_test_split\r\n",
        "X_train, X_test, Y_train, Y_test = train_test_split(text_counts, Y, test_size=0.20, random_state=5)"
      ],
      "execution_count": null,
      "outputs": []
    },
    {
      "cell_type": "code",
      "metadata": {
        "id": "MuFglTBC4eGa"
      },
      "source": [
        "from sklearn.naive_bayes import MultinomialNB"
      ],
      "execution_count": null,
      "outputs": []
    },
    {
      "cell_type": "code",
      "metadata": {
        "colab": {
          "base_uri": "https://localhost:8080/"
        },
        "id": "lPfMHAu34eI6",
        "outputId": "fbde6543-9f60-46b5-e536-4e518fdd5578"
      },
      "source": [
        "MNB = MultinomialNB()\r\n",
        "MNB.fit(X_train, Y_train)"
      ],
      "execution_count": null,
      "outputs": [
        {
          "output_type": "execute_result",
          "data": {
            "text/plain": [
              "MultinomialNB(alpha=1.0, class_prior=None, fit_prior=True)"
            ]
          },
          "metadata": {
            "tags": []
          },
          "execution_count": 9
        }
      ]
    },
    {
      "cell_type": "code",
      "metadata": {
        "id": "zpCqSZqM4Qx3"
      },
      "source": [
        "from sklearn import metrics\r\n",
        "predicted = MNB.predict(X_test)\r\n",
        "accuracy_score = metrics.accuracy_score(predicted, Y_test)"
      ],
      "execution_count": null,
      "outputs": []
    },
    {
      "cell_type": "code",
      "metadata": {
        "colab": {
          "base_uri": "https://localhost:8080/"
        },
        "id": "k5y4DN0u6Epo",
        "outputId": "2fdd4f3e-e8d6-4f6b-b593-8169485eaf3d"
      },
      "source": [
        "print(str('{:04.2f}'.format(accuracy_score*100))+'%')"
      ],
      "execution_count": null,
      "outputs": [
        {
          "output_type": "stream",
          "text": [
            "93.12%\n"
          ],
          "name": "stdout"
        }
      ]
    },
    {
      "cell_type": "code",
      "metadata": {
        "colab": {
          "base_uri": "https://localhost:8080/"
        },
        "id": "TZqLoBff6Esn",
        "outputId": "0a18125b-35ae-4d8f-dc2e-934df9ea7b11"
      },
      "source": [
        "from sklearn.linear_model import LogisticRegression, SGDClassifier\r\n",
        "from sklearn.svm import LinearSVC\r\n",
        "SGDC = SGDClassifier()\r\n",
        "LSVC = LinearSVC()\r\n",
        "\r\n",
        "#on CountVectorize data\r\n",
        "LSVC.fit(X_train, Y_train)\r\n",
        "accuracy_score_lsvc_CV = metrics.accuracy_score(LSVC.predict(X_test), Y_test)\r\n",
        "print('accuracy_score_lsvc_cv = '+str('{:4.2f}'.format(accuracy_score_lsvc_CV*100))+'%')\r\n",
        "\r\n",
        "SGDC.fit(X_train, Y_train)\r\n",
        "accuracy_score_sgdc_CV = metrics.accuracy_score(SGDC.predict(X_test), Y_test)\r\n",
        "print('accuracy_score_sgdc_cv = '+str('{:4.2f}'.format(accuracy_score_sgdc_CV*100))+'%')"
      ],
      "execution_count": null,
      "outputs": [
        {
          "output_type": "stream",
          "text": [
            "accuracy_score_lsvc_cv = 99.75%\n",
            "accuracy_score_sgdc_cv = 99.75%\n"
          ],
          "name": "stdout"
        }
      ]
    },
    {
      "cell_type": "code",
      "metadata": {
        "id": "i_JkyFQt6OY3"
      },
      "source": [
        ""
      ],
      "execution_count": null,
      "outputs": []
    },
    {
      "cell_type": "code",
      "metadata": {
        "id": "lPfILO_v6ObS"
      },
      "source": [
        ""
      ],
      "execution_count": null,
      "outputs": []
    },
    {
      "cell_type": "code",
      "metadata": {
        "id": "TIAqeN_K6Od9"
      },
      "source": [
        ""
      ],
      "execution_count": null,
      "outputs": []
    },
    {
      "cell_type": "code",
      "metadata": {
        "id": "sz7Cqbig6OgT"
      },
      "source": [
        ""
      ],
      "execution_count": null,
      "outputs": []
    },
    {
      "cell_type": "code",
      "metadata": {
        "id": "iRSMVL1c6EvW"
      },
      "source": [
        ""
      ],
      "execution_count": null,
      "outputs": []
    }
  ]
}