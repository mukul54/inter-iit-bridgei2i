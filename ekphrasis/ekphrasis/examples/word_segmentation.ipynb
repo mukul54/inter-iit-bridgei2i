{
 "cells": [
  {
   "cell_type": "code",
   "execution_count": 4,
   "metadata": {
    "collapsed": false
   },
   "outputs": [
    {
     "name": "stdout",
     "output_type": "stream",
     "text": [
      "Reading english - 1grams ...\n"
     ]
    },
    {
     "name": "stdout",
     "output_type": "stream",
     "text": [
      "Reading english - 2grams ...\n"
     ]
    },
    {
     "name": "stdout",
     "output_type": "stream",
     "text": [
      "Reading twitter - 1grams ...\nReading twitter - 2grams ...\n"
     ]
    },
    {
     "name": "stdout",
     "output_type": "stream",
     "text": [
      "Reading text8 - 1grams ...\nReading text8 - 2grams ...\n"
     ]
    }
   ],
   "source": [
    "from ekphrasis.classes.segmenter import Segmenter\n",
    "\n",
    "seg_eng = Segmenter(corpus=\"english\")\n",
    "seg_tw = Segmenter(corpus=\"twitter\")\n",
    "seg_t8 = Segmenter(corpus=\"text8\")"
   ]
  },
  {
   "cell_type": "code",
   "execution_count": null,
   "metadata": {
    "collapsed": false
   },
   "outputs": [],
   "source": [
    "import pandas as pd\n",
    "\n",
    "diffs = pd.read_pickle(\"segmenter_diffs.pickle\")"
   ]
  },
  {
   "cell_type": "code",
   "execution_count": 15,
   "metadata": {
    "collapsed": false
   },
   "outputs": [
    {
     "name": "stdout",
     "output_type": "stream",
     "text": [
      "smallandinsignificant\n(eng): small and insignificant\n(tw): small and insignificant\n\ninsufficientnumbers\n(eng): insufficient numbers\n(tw): insufficient numbers\n\nexponentialbackoff\n(eng): exponential backoff\n(tw): exponential back off\n\nsitdown\n(eng): sit down\n(tw): sit down\n\ngamedev\n(eng): gamedev\n(tw): game dev\n\nretrogaming\n(eng): retrogaming\n(tw): retro gaming\n\nthewatercooler\n(eng): the water cooler\n(tw): the watercooler\n\nhomonculus\n(eng): homonculus\n(tw): ho mon cul us\n\n"
     ]
    }
   ],
   "source": [
    "words = [\"smallandinsignificant\", \"insufficientnumbers\", \"exponentialbackoff\", \"sitdown\", \"gamedev\", \"retrogaming\",\"thewatercooler\", \"homonculus\"]\n",
    "for w in words:\n",
    "    print(w)\n",
    "    print(\"(eng):\", seg_eng.segment(w))\n",
    "    print(\"(tw):\", seg_tw.segment(w))\n",
    "    # print(\"(t8):\", seg_t8.segment(w))\n",
    "    print()"
   ]
  },
  {
   "cell_type": "code",
   "execution_count": null,
   "metadata": {
    "collapsed": true
   },
   "outputs": [],
   "source": [
    ""
   ]
  }
 ],
 "metadata": {
  "kernelspec": {
   "display_name": "Python 3",
   "language": "python",
   "name": "python3"
  },
  "language_info": {
   "codemirror_mode": {
    "name": "ipython",
    "version": 3.0
   },
   "file_extension": ".py",
   "mimetype": "text/x-python",
   "name": "python",
   "nbconvert_exporter": "python",
   "pygments_lexer": "ipython3",
   "version": "3.5.2"
  }
 },
 "nbformat": 4,
 "nbformat_minor": 0
}