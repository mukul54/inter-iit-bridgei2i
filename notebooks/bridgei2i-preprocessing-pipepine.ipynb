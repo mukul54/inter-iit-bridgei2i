{
 "cells": [
  {
   "cell_type": "markdown",
   "metadata": {
    "id": "5tcZKJf31g2Y"
   },
   "source": [
    "\n",
    "# Complete preprocessing Pipeline\n",
    "\n",
    "## Mount drive and Install other required libraries\n",
    "\n"
   ]
  },
  {
   "cell_type": "code",
   "execution_count": 1,
   "metadata": {
    "colab": {
     "base_uri": "https://localhost:8080/"
    },
    "executionInfo": {
     "elapsed": 1029,
     "status": "ok",
     "timestamp": 1615757308409,
     "user": {
      "displayName": "Mukul Ranjan",
      "photoUrl": "https://lh3.googleusercontent.com/a-/AOh14GjrXoZaZHvNgy8cntoFjQ7GOO1actLq6wcv6IzrbQ=s64",
      "userId": "16757135833751682423"
     },
     "user_tz": -330
    },
    "id": "-w2pVcke1Wq9",
    "outputId": "bd162b98-605a-480b-c367-3773397f6dac"
   },
   "outputs": [
    {
     "name": "stdout",
     "output_type": "stream",
     "text": [
      "Drive already mounted at /content/drive; to attempt to forcibly remount, call drive.mount(\"/content/drive\", force_remount=True).\n"
     ]
    }
   ],
   "source": [
    "from google.colab import drive\n",
    "drive.mount('/content/drive')"
   ]
  },
  {
   "cell_type": "code",
   "execution_count": 1,
   "metadata": {
    "colab": {
     "base_uri": "https://localhost:8080/"
    },
    "executionInfo": {
     "elapsed": 12482,
     "status": "ok",
     "timestamp": 1615757321420,
     "user": {
      "displayName": "Mukul Ranjan",
      "photoUrl": "https://lh3.googleusercontent.com/a-/AOh14GjrXoZaZHvNgy8cntoFjQ7GOO1actLq6wcv6IzrbQ=s64",
      "userId": "16757135833751682423"
     },
     "user_tz": -330
    },
    "id": "5MGS0xqe20x7",
    "outputId": "3439ad86-41b4-4b81-8928-e00ea328a7b6"
   },
   "outputs": [
    {
     "name": "stdout",
     "output_type": "stream",
     "text": [
      "Collecting wordsegment\n",
      "  Downloading wordsegment-1.3.1-py2.py3-none-any.whl (4.8 MB)\n",
      "\u001b[K     |████████████████████████████████| 4.8 MB 2.8 MB/s eta 0:00:01\n",
      "\u001b[?25hInstalling collected packages: wordsegment\n",
      "Successfully installed wordsegment-1.3.1\n",
      "Collecting demoji\n",
      "  Using cached demoji-0.4.0-py2.py3-none-any.whl (10 kB)\n",
      "Requirement already satisfied: requests<3.0.0 in /home/chindimaga/miniconda3/envs/exp/lib/python3.8/site-packages (from demoji) (2.25.1)\n",
      "Requirement already satisfied: colorama in /home/chindimaga/miniconda3/envs/exp/lib/python3.8/site-packages (from demoji) (0.4.4)\n",
      "Requirement already satisfied: urllib3<1.27,>=1.21.1 in /home/chindimaga/miniconda3/envs/exp/lib/python3.8/site-packages (from requests<3.0.0->demoji) (1.26.3)\n",
      "Requirement already satisfied: idna<3,>=2.5 in /home/chindimaga/miniconda3/envs/exp/lib/python3.8/site-packages (from requests<3.0.0->demoji) (2.10)\n",
      "Requirement already satisfied: certifi>=2017.4.17 in /home/chindimaga/miniconda3/envs/exp/lib/python3.8/site-packages (from requests<3.0.0->demoji) (2020.12.5)\n",
      "Requirement already satisfied: chardet<5,>=3.0.2 in /home/chindimaga/miniconda3/envs/exp/lib/python3.8/site-packages (from requests<3.0.0->demoji) (4.0.0)\n",
      "Installing collected packages: demoji\n",
      "Successfully installed demoji-0.4.0\n",
      "Collecting spacy_langdetect\n",
      "  Using cached spacy_langdetect-0.1.2-py3-none-any.whl (5.0 kB)\n",
      "Requirement already satisfied: pytest in /home/chindimaga/miniconda3/envs/exp/lib/python3.8/site-packages (from spacy_langdetect) (6.2.2)\n",
      "Collecting langdetect==1.0.7\n",
      "  Using cached langdetect-1.0.7-py3-none-any.whl\n",
      "Requirement already satisfied: six in /home/chindimaga/miniconda3/envs/exp/lib/python3.8/site-packages (from langdetect==1.0.7->spacy_langdetect) (1.15.0)\n",
      "Requirement already satisfied: attrs>=19.2.0 in /home/chindimaga/miniconda3/envs/exp/lib/python3.8/site-packages (from pytest->spacy_langdetect) (20.3.0)\n",
      "Requirement already satisfied: iniconfig in /home/chindimaga/miniconda3/envs/exp/lib/python3.8/site-packages (from pytest->spacy_langdetect) (1.1.1)\n",
      "Requirement already satisfied: packaging in /home/chindimaga/miniconda3/envs/exp/lib/python3.8/site-packages (from pytest->spacy_langdetect) (20.9)\n",
      "Requirement already satisfied: pluggy<1.0.0a1,>=0.12 in /home/chindimaga/miniconda3/envs/exp/lib/python3.8/site-packages (from pytest->spacy_langdetect) (0.13.1)\n",
      "Requirement already satisfied: py>=1.8.2 in /home/chindimaga/miniconda3/envs/exp/lib/python3.8/site-packages (from pytest->spacy_langdetect) (1.10.0)\n",
      "Requirement already satisfied: toml in /home/chindimaga/miniconda3/envs/exp/lib/python3.8/site-packages (from pytest->spacy_langdetect) (0.10.1)\n",
      "Requirement already satisfied: pyparsing>=2.0.2 in /home/chindimaga/miniconda3/envs/exp/lib/python3.8/site-packages (from packaging->pytest->spacy_langdetect) (2.4.7)\n",
      "Installing collected packages: langdetect, spacy-langdetect\n",
      "Successfully installed langdetect-1.0.7 spacy-langdetect-0.1.2\n",
      "Collecting emoji\n",
      "  Using cached emoji-1.2.0-py3-none-any.whl (131 kB)\n",
      "Installing collected packages: emoji\n",
      "Successfully installed emoji-1.2.0\n",
      "Downloading emoji data ...\n",
      "... OK (Got response in 2.53 seconds)\n",
      "Writing emoji data to /home/chindimaga/.demoji/codes.json ...\n",
      "... OK\n"
     ]
    }
   ],
   "source": [
    "!pip install wordsegment #for hashtag segmentation\n",
    "!pip install demoji      # for replacing emogis with repective words\n",
    "!pip install spacy_langdetect # for language detection\n",
    "!pip install emoji # for preprocessing emogis\n",
    "\n",
    "## Download deemogi dictionary\n",
    "import demoji \n",
    "demoji.download_codes()"
   ]
  },
  {
   "cell_type": "code",
   "execution_count": 3,
   "metadata": {
    "executionInfo": {
     "elapsed": 14141,
     "status": "ok",
     "timestamp": 1615757323453,
     "user": {
      "displayName": "Mukul Ranjan",
      "photoUrl": "https://lh3.googleusercontent.com/a-/AOh14GjrXoZaZHvNgy8cntoFjQ7GOO1actLq6wcv6IzrbQ=s64",
      "userId": "16757135833751682423"
     },
     "user_tz": -330
    },
    "id": "1PnQtQ1n6nhI"
   },
   "outputs": [
    {
     "ename": "ModuleNotFoundError",
     "evalue": "No module named 'wordcloud'",
     "output_type": "error",
     "traceback": [
      "\u001b[0;31m---------------------------------------------------------------------------\u001b[0m",
      "\u001b[0;31mModuleNotFoundError\u001b[0m                       Traceback (most recent call last)",
      "\u001b[0;32m<ipython-input-3-cefbd5cf0603>\u001b[0m in \u001b[0;36m<module>\u001b[0;34m\u001b[0m\n\u001b[1;32m     56\u001b[0m \u001b[0;32mfrom\u001b[0m \u001b[0mcollections\u001b[0m \u001b[0;32mimport\u001b[0m \u001b[0mCounter\u001b[0m\u001b[0;34m\u001b[0m\u001b[0;34m\u001b[0m\u001b[0m\n\u001b[1;32m     57\u001b[0m \u001b[0;32mfrom\u001b[0m \u001b[0mPIL\u001b[0m \u001b[0;32mimport\u001b[0m \u001b[0mImage\u001b[0m\u001b[0;34m\u001b[0m\u001b[0;34m\u001b[0m\u001b[0m\n\u001b[0;32m---> 58\u001b[0;31m \u001b[0;32mfrom\u001b[0m \u001b[0mwordcloud\u001b[0m \u001b[0;32mimport\u001b[0m \u001b[0mWordCloud\u001b[0m\u001b[0;34m,\u001b[0m \u001b[0mSTOPWORDS\u001b[0m\u001b[0;34m,\u001b[0m \u001b[0mImageColorGenerator\u001b[0m\u001b[0;34m\u001b[0m\u001b[0;34m\u001b[0m\u001b[0m\n\u001b[0m\u001b[1;32m     59\u001b[0m \u001b[0;34m\u001b[0m\u001b[0m\n\u001b[1;32m     60\u001b[0m \u001b[0;31m# sklearn data science models\u001b[0m\u001b[0;34m\u001b[0m\u001b[0;34m\u001b[0m\u001b[0;34m\u001b[0m\u001b[0m\n",
      "\u001b[0;31mModuleNotFoundError\u001b[0m: No module named 'wordcloud'"
     ]
    }
   ],
   "source": [
    "#Basic Python and Machine learning libraries\n",
    "import os, sys, warnings, random, time, re, math, string\n",
    "import pandas as pd\n",
    "import numpy as np\n",
    "import matplotlib.pyplot as plt\n",
    "\n",
    "from string import punctuation\n",
    "from collections import Counter\n",
    "import seaborn as sns\n",
    "from scipy import stats\n",
    "from sklearn import metrics\n",
    "from sklearn.model_selection import StratifiedKFold\n",
    "from IPython.display import display\n",
    "from tqdm import tqdm_notebook\n",
    "\n",
    "#Pytorch and nltk and other text relevant libraries\n",
    "# import torch\n",
    "# import nltk, emoji\n",
    "# import demoji\n",
    "# from torch import nn, optim\n",
    "# from torch.optim import lr_scheduler\n",
    "# from torch.functional import F \n",
    "# from torch.utils.data import Dataset, DataLoader\n",
    "\n",
    "\n",
    "from sklearn.feature_extraction.text import CountVectorizer,TfidfVectorizer\n",
    "from sklearn.metrics import accuracy_score\n",
    "from sklearn import metrics\n",
    "from sklearn.feature_extraction.text import ENGLISH_STOP_WORDS as sklearn_stop_words\n",
    "from sklearn.model_selection import train_test_split\n",
    "from sklearn.preprocessing import StandardScaler\n",
    "from sklearn.feature_selection import SelectFromModel\n",
    "\n",
    "from bs4 import BeautifulSoup\n",
    "from nltk.corpus import stopwords \n",
    "from nltk.tokenize import word_tokenize\n",
    "from nltk.stem import SnowballStemmer, WordNetLemmatizer\n",
    "from nltk.tokenize.casual import casual_tokenize\n",
    "from nltk.util import ngrams\n",
    "\n",
    "import spacy\n",
    "from spacy_langdetect import LanguageDetector\n",
    "\n",
    "\n",
    "#Mandatory Lines of code when working with jupyter notebooks\n",
    "%matplotlib inline\n",
    "warnings.filterwarnings('ignore')\n",
    "\n",
    "#tqdm with pandas\n",
    "from tqdm import tqdm\n",
    "tqdm.pandas()\n",
    "\n",
    "from plotly import graph_objs as go\n",
    "import plotly.express as px\n",
    "import plotly.figure_factory as ff\n",
    "from collections import Counter\n",
    "from PIL import Image\n",
    "from wordcloud import WordCloud, STOPWORDS, ImageColorGenerator\n",
    "\n",
    "# sklearn data science models\n",
    "from sklearn.naive_bayes import MultinomialNB\n",
    "from sklearn.linear_model import LogisticRegression, SGDClassifier, Lasso\n",
    "from sklearn.svm import LinearSVC\n",
    "import xgboost as xgb\n",
    "\n",
    "# add the path of ekphrasis- the hashtag segmentation library\n",
    "sys.path.insert(1, \"/content/drive/MyDrive/inter-iit-bridgei2i/ekphrasis\")"
   ]
  },
  {
   "cell_type": "code",
   "execution_count": null,
   "metadata": {
    "executionInfo": {
     "elapsed": 11907,
     "status": "ok",
     "timestamp": 1615757323455,
     "user": {
      "displayName": "Mukul Ranjan",
      "photoUrl": "https://lh3.googleusercontent.com/a-/AOh14GjrXoZaZHvNgy8cntoFjQ7GOO1actLq6wcv6IzrbQ=s64",
      "userId": "16757135833751682423"
     },
     "user_tz": -330
    },
    "id": "fYqn2kqV9xwJ"
   },
   "outputs": [],
   "source": [
    "plt.style.use('seaborn-whitegrid')\n",
    "plt.rcParams['lines.linewidth'] = 2\n",
    "plt.rcParams['font.sans-serif'] = 'Arial'\n",
    "plt.rcParams['text.color'] = 'black'\n",
    "plt.rcParams['axes.labelcolor']= 'black'\n",
    "plt.rcParams['xtick.color'] = 'black'\n",
    "plt.rcParams['ytick.color'] = 'black'\n",
    "plt.rcParams['font.size'] = 12"
   ]
  },
  {
   "cell_type": "markdown",
   "metadata": {
    "id": "bPxZhmpg-WDi"
   },
   "source": [
    "## Load data"
   ]
  },
  {
   "cell_type": "code",
   "execution_count": 5,
   "metadata": {
    "colab": {
     "base_uri": "https://localhost:8080/",
     "height": 204
    },
    "executionInfo": {
     "elapsed": 10006,
     "status": "ok",
     "timestamp": 1615757323457,
     "user": {
      "displayName": "Mukul Ranjan",
      "photoUrl": "https://lh3.googleusercontent.com/a-/AOh14GjrXoZaZHvNgy8cntoFjQ7GOO1actLq6wcv6IzrbQ=s64",
      "userId": "16757135833751682423"
     },
     "user_tz": -330
    },
    "id": "efsEFfx4-EuT",
    "outputId": "1f81cc77-4963-4841-cdf8-ad031cf2b9b7"
   },
   "outputs": [
    {
     "data": {
      "text/html": [
       "<div>\n",
       "<style scoped>\n",
       "    .dataframe tbody tr th:only-of-type {\n",
       "        vertical-align: middle;\n",
       "    }\n",
       "\n",
       "    .dataframe tbody tr th {\n",
       "        vertical-align: top;\n",
       "    }\n",
       "\n",
       "    .dataframe thead th {\n",
       "        text-align: right;\n",
       "    }\n",
       "</style>\n",
       "<table border=\"1\" class=\"dataframe\">\n",
       "  <thead>\n",
       "    <tr style=\"text-align: right;\">\n",
       "      <th></th>\n",
       "      <th>Tweet_ID</th>\n",
       "      <th>Tweet</th>\n",
       "      <th>Mobile_Tech_Tag</th>\n",
       "    </tr>\n",
       "  </thead>\n",
       "  <tbody>\n",
       "    <tr>\n",
       "      <th>0</th>\n",
       "      <td>tweet_0001</td>\n",
       "      <td>You'll 💜 my #PitchWars book if you like: 🦋 hat...</td>\n",
       "      <td>0</td>\n",
       "    </tr>\n",
       "    <tr>\n",
       "      <th>1</th>\n",
       "      <td>tweet_0002</td>\n",
       "      <td>RT @SkySportsNews: 🚨 Breaking: #WBA have reach...</td>\n",
       "      <td>0</td>\n",
       "    </tr>\n",
       "    <tr>\n",
       "      <th>2</th>\n",
       "      <td>tweet_0003</td>\n",
       "      <td>RT @stealyoman_cuso: really says a lot about s...</td>\n",
       "      <td>0</td>\n",
       "    </tr>\n",
       "    <tr>\n",
       "      <th>3</th>\n",
       "      <td>tweet_0004</td>\n",
       "      <td>RT @PGtzsche1: HPV vaccines increased serious ...</td>\n",
       "      <td>0</td>\n",
       "    </tr>\n",
       "    <tr>\n",
       "      <th>4</th>\n",
       "      <td>tweet_0005</td>\n",
       "      <td>Ramaphosa says if you are positive you must se...</td>\n",
       "      <td>0</td>\n",
       "    </tr>\n",
       "  </tbody>\n",
       "</table>\n",
       "</div>"
      ],
      "text/plain": [
       "     Tweet_ID  ... Mobile_Tech_Tag\n",
       "0  tweet_0001  ...               0\n",
       "1  tweet_0002  ...               0\n",
       "2  tweet_0003  ...               0\n",
       "3  tweet_0004  ...               0\n",
       "4  tweet_0005  ...               0\n",
       "\n",
       "[5 rows x 3 columns]"
      ]
     },
     "execution_count": 5,
     "metadata": {
      "tags": []
     },
     "output_type": "execute_result"
    }
   ],
   "source": [
    "data = pd.read_excel('../Development Data/dev_data_tweet.xlsx')\n",
    "# data = pd.read_excel('/content/drive/MyDrive/Datasets/IIT tech meet 2021_BRIDGEi2i_NLP/Development Data/dev_data_tweet.xlsx')\n",
    "data.head()"
   ]
  },
  {
   "cell_type": "code",
   "execution_count": 6,
   "metadata": {
    "colab": {
     "base_uri": "https://localhost:8080/",
     "height": 204
    },
    "executionInfo": {
     "elapsed": 9596,
     "status": "ok",
     "timestamp": 1615757323459,
     "user": {
      "displayName": "Mukul Ranjan",
      "photoUrl": "https://lh3.googleusercontent.com/a-/AOh14GjrXoZaZHvNgy8cntoFjQ7GOO1actLq6wcv6IzrbQ=s64",
      "userId": "16757135833751682423"
     },
     "user_tz": -330
    },
    "id": "YlmgIAPo-lUt",
    "outputId": "d206f3bf-de7e-416e-d684-7c878fa838a3"
   },
   "outputs": [
    {
     "data": {
      "text/html": [
       "<div>\n",
       "<style scoped>\n",
       "    .dataframe tbody tr th:only-of-type {\n",
       "        vertical-align: middle;\n",
       "    }\n",
       "\n",
       "    .dataframe tbody tr th {\n",
       "        vertical-align: top;\n",
       "    }\n",
       "\n",
       "    .dataframe thead th {\n",
       "        text-align: right;\n",
       "    }\n",
       "</style>\n",
       "<table border=\"1\" class=\"dataframe\">\n",
       "  <thead>\n",
       "    <tr style=\"text-align: right;\">\n",
       "      <th></th>\n",
       "      <th>Tweet</th>\n",
       "      <th>Mobile_Tech_Tag</th>\n",
       "    </tr>\n",
       "  </thead>\n",
       "  <tbody>\n",
       "    <tr>\n",
       "      <th>0</th>\n",
       "      <td>You'll 💜 my #PitchWars book if you like: 🦋 hat...</td>\n",
       "      <td>0</td>\n",
       "    </tr>\n",
       "    <tr>\n",
       "      <th>1</th>\n",
       "      <td>RT @SkySportsNews: 🚨 Breaking: #WBA have reach...</td>\n",
       "      <td>0</td>\n",
       "    </tr>\n",
       "    <tr>\n",
       "      <th>2</th>\n",
       "      <td>RT @stealyoman_cuso: really says a lot about s...</td>\n",
       "      <td>0</td>\n",
       "    </tr>\n",
       "    <tr>\n",
       "      <th>3</th>\n",
       "      <td>RT @PGtzsche1: HPV vaccines increased serious ...</td>\n",
       "      <td>0</td>\n",
       "    </tr>\n",
       "    <tr>\n",
       "      <th>4</th>\n",
       "      <td>Ramaphosa says if you are positive you must se...</td>\n",
       "      <td>0</td>\n",
       "    </tr>\n",
       "  </tbody>\n",
       "</table>\n",
       "</div>"
      ],
      "text/plain": [
       "                                               Tweet  Mobile_Tech_Tag\n",
       "0  You'll 💜 my #PitchWars book if you like: 🦋 hat...                0\n",
       "1  RT @SkySportsNews: 🚨 Breaking: #WBA have reach...                0\n",
       "2  RT @stealyoman_cuso: really says a lot about s...                0\n",
       "3  RT @PGtzsche1: HPV vaccines increased serious ...                0\n",
       "4  Ramaphosa says if you are positive you must se...                0"
      ]
     },
     "execution_count": 6,
     "metadata": {
      "tags": []
     },
     "output_type": "execute_result"
    }
   ],
   "source": [
    "# drop the useless Tweet_ID\n",
    "data = data.drop(\"Tweet_ID\", axis=1)\n",
    "data.head()"
   ]
  },
  {
   "cell_type": "code",
   "execution_count": 7,
   "metadata": {
    "colab": {
     "base_uri": "https://localhost:8080/",
     "height": 297
    },
    "executionInfo": {
     "elapsed": 9220,
     "status": "ok",
     "timestamp": 1615757323461,
     "user": {
      "displayName": "Mukul Ranjan",
      "photoUrl": "https://lh3.googleusercontent.com/a-/AOh14GjrXoZaZHvNgy8cntoFjQ7GOO1actLq6wcv6IzrbQ=s64",
      "userId": "16757135833751682423"
     },
     "user_tz": -330
    },
    "id": "KpqBbe9Y_NB5",
    "outputId": "02317ba6-292c-4029-e74e-148a6ee5b66a"
   },
   "outputs": [
    {
     "data": {
      "text/html": [
       "<div>\n",
       "<style scoped>\n",
       "    .dataframe tbody tr th:only-of-type {\n",
       "        vertical-align: middle;\n",
       "    }\n",
       "\n",
       "    .dataframe tbody tr th {\n",
       "        vertical-align: top;\n",
       "    }\n",
       "\n",
       "    .dataframe thead th {\n",
       "        text-align: right;\n",
       "    }\n",
       "</style>\n",
       "<table border=\"1\" class=\"dataframe\">\n",
       "  <thead>\n",
       "    <tr style=\"text-align: right;\">\n",
       "      <th></th>\n",
       "      <th>Mobile_Tech_Tag</th>\n",
       "    </tr>\n",
       "  </thead>\n",
       "  <tbody>\n",
       "    <tr>\n",
       "      <th>count</th>\n",
       "      <td>4000.000000</td>\n",
       "    </tr>\n",
       "    <tr>\n",
       "      <th>mean</th>\n",
       "      <td>0.250000</td>\n",
       "    </tr>\n",
       "    <tr>\n",
       "      <th>std</th>\n",
       "      <td>0.433067</td>\n",
       "    </tr>\n",
       "    <tr>\n",
       "      <th>min</th>\n",
       "      <td>0.000000</td>\n",
       "    </tr>\n",
       "    <tr>\n",
       "      <th>25%</th>\n",
       "      <td>0.000000</td>\n",
       "    </tr>\n",
       "    <tr>\n",
       "      <th>50%</th>\n",
       "      <td>0.000000</td>\n",
       "    </tr>\n",
       "    <tr>\n",
       "      <th>75%</th>\n",
       "      <td>0.250000</td>\n",
       "    </tr>\n",
       "    <tr>\n",
       "      <th>max</th>\n",
       "      <td>1.000000</td>\n",
       "    </tr>\n",
       "  </tbody>\n",
       "</table>\n",
       "</div>"
      ],
      "text/plain": [
       "       Mobile_Tech_Tag\n",
       "count      4000.000000\n",
       "mean          0.250000\n",
       "std           0.433067\n",
       "min           0.000000\n",
       "25%           0.000000\n",
       "50%           0.000000\n",
       "75%           0.250000\n",
       "max           1.000000"
      ]
     },
     "execution_count": 7,
     "metadata": {
      "tags": []
     },
     "output_type": "execute_result"
    }
   ],
   "source": [
    "data.describe()"
   ]
  },
  {
   "cell_type": "markdown",
   "metadata": {
    "id": "smshJfeKGxgS"
   },
   "source": [
    "## Replace Emojis with texts\n",
    "\n"
   ]
  },
  {
   "cell_type": "code",
   "execution_count": 8,
   "metadata": {
    "colab": {
     "base_uri": "https://localhost:8080/"
    },
    "executionInfo": {
     "elapsed": 16259,
     "status": "ok",
     "timestamp": 1615757331559,
     "user": {
      "displayName": "Mukul Ranjan",
      "photoUrl": "https://lh3.googleusercontent.com/a-/AOh14GjrXoZaZHvNgy8cntoFjQ7GOO1actLq6wcv6IzrbQ=s64",
      "userId": "16757135833751682423"
     },
     "user_tz": -330
    },
    "id": "idW34e0CMZEq",
    "outputId": "2c0a01b8-206c-43de-d69e-d11da7d9d6a9"
   },
   "outputs": [
    {
     "name": "stdout",
     "output_type": "stream",
     "text": [
      "CPU times: user 7.87 s, sys: 6.13 ms, total: 7.88 s\n",
      "Wall time: 7.9 s\n"
     ]
    }
   ],
   "source": [
    "%%time\n",
    "data['cleaned_tweet_text_emoji'] = data.Tweet.map(lambda x: demoji.replace_with_desc(x, sep = \" \"))"
   ]
  },
  {
   "cell_type": "code",
   "execution_count": 9,
   "metadata": {
    "colab": {
     "base_uri": "https://localhost:8080/",
     "height": 204
    },
    "executionInfo": {
     "elapsed": 16021,
     "status": "ok",
     "timestamp": 1615757331561,
     "user": {
      "displayName": "Mukul Ranjan",
      "photoUrl": "https://lh3.googleusercontent.com/a-/AOh14GjrXoZaZHvNgy8cntoFjQ7GOO1actLq6wcv6IzrbQ=s64",
      "userId": "16757135833751682423"
     },
     "user_tz": -330
    },
    "id": "ly_7UL5AOk1J",
    "outputId": "360b0084-d54f-4d97-c988-084f2e8bb5cd"
   },
   "outputs": [
    {
     "data": {
      "text/html": [
       "<div>\n",
       "<style scoped>\n",
       "    .dataframe tbody tr th:only-of-type {\n",
       "        vertical-align: middle;\n",
       "    }\n",
       "\n",
       "    .dataframe tbody tr th {\n",
       "        vertical-align: top;\n",
       "    }\n",
       "\n",
       "    .dataframe thead th {\n",
       "        text-align: right;\n",
       "    }\n",
       "</style>\n",
       "<table border=\"1\" class=\"dataframe\">\n",
       "  <thead>\n",
       "    <tr style=\"text-align: right;\">\n",
       "      <th></th>\n",
       "      <th>Tweet</th>\n",
       "      <th>Mobile_Tech_Tag</th>\n",
       "      <th>cleaned_tweet_text_emoji</th>\n",
       "    </tr>\n",
       "  </thead>\n",
       "  <tbody>\n",
       "    <tr>\n",
       "      <th>0</th>\n",
       "      <td>You'll 💜 my #PitchWars book if you like: 🦋 hat...</td>\n",
       "      <td>0</td>\n",
       "      <td>You'll  purple heart  my #PitchWars book if yo...</td>\n",
       "    </tr>\n",
       "    <tr>\n",
       "      <th>1</th>\n",
       "      <td>RT @SkySportsNews: 🚨 Breaking: #WBA have reach...</td>\n",
       "      <td>0</td>\n",
       "      <td>RT @SkySportsNews:  police car light  Breaking...</td>\n",
       "    </tr>\n",
       "    <tr>\n",
       "      <th>2</th>\n",
       "      <td>RT @stealyoman_cuso: really says a lot about s...</td>\n",
       "      <td>0</td>\n",
       "      <td>RT @stealyoman_cuso: really says a lot about s...</td>\n",
       "    </tr>\n",
       "    <tr>\n",
       "      <th>3</th>\n",
       "      <td>RT @PGtzsche1: HPV vaccines increased serious ...</td>\n",
       "      <td>0</td>\n",
       "      <td>RT @PGtzsche1: HPV vaccines increased serious ...</td>\n",
       "    </tr>\n",
       "    <tr>\n",
       "      <th>4</th>\n",
       "      <td>Ramaphosa says if you are positive you must se...</td>\n",
       "      <td>0</td>\n",
       "      <td>Ramaphosa says if you are positive you must se...</td>\n",
       "    </tr>\n",
       "  </tbody>\n",
       "</table>\n",
       "</div>"
      ],
      "text/plain": [
       "                                               Tweet  ...                           cleaned_tweet_text_emoji\n",
       "0  You'll 💜 my #PitchWars book if you like: 🦋 hat...  ...  You'll  purple heart  my #PitchWars book if yo...\n",
       "1  RT @SkySportsNews: 🚨 Breaking: #WBA have reach...  ...  RT @SkySportsNews:  police car light  Breaking...\n",
       "2  RT @stealyoman_cuso: really says a lot about s...  ...  RT @stealyoman_cuso: really says a lot about s...\n",
       "3  RT @PGtzsche1: HPV vaccines increased serious ...  ...  RT @PGtzsche1: HPV vaccines increased serious ...\n",
       "4  Ramaphosa says if you are positive you must se...  ...  Ramaphosa says if you are positive you must se...\n",
       "\n",
       "[5 rows x 3 columns]"
      ]
     },
     "execution_count": 9,
     "metadata": {
      "tags": []
     },
     "output_type": "execute_result"
    }
   ],
   "source": [
    "data.head()"
   ]
  },
  {
   "cell_type": "markdown",
   "metadata": {
    "id": "rhRUPdEQQc7U"
   },
   "source": [
    "## Another coloumn with removed emoji"
   ]
  },
  {
   "cell_type": "code",
   "execution_count": 10,
   "metadata": {
    "colab": {
     "base_uri": "https://localhost:8080/"
    },
    "executionInfo": {
     "elapsed": 22860,
     "status": "ok",
     "timestamp": 1615757338916,
     "user": {
      "displayName": "Mukul Ranjan",
      "photoUrl": "https://lh3.googleusercontent.com/a-/AOh14GjrXoZaZHvNgy8cntoFjQ7GOO1actLq6wcv6IzrbQ=s64",
      "userId": "16757135833751682423"
     },
     "user_tz": -330
    },
    "id": "vnP_kdxRRy9x",
    "outputId": "f6949f95-b820-43ac-a50e-13c142d3a107"
   },
   "outputs": [
    {
     "name": "stdout",
     "output_type": "stream",
     "text": [
      "CPU times: user 7.23 s, sys: 3.76 ms, total: 7.23 s\n",
      "Wall time: 7.24 s\n"
     ]
    }
   ],
   "source": [
    "%%time\n",
    "data['cleaned_tweet_no_emoji'] = data.Tweet.map(lambda x: demoji.replace(x, \" \"))"
   ]
  },
  {
   "cell_type": "code",
   "execution_count": 11,
   "metadata": {
    "colab": {
     "base_uri": "https://localhost:8080/",
     "height": 289
    },
    "executionInfo": {
     "elapsed": 22644,
     "status": "ok",
     "timestamp": 1615757338918,
     "user": {
      "displayName": "Mukul Ranjan",
      "photoUrl": "https://lh3.googleusercontent.com/a-/AOh14GjrXoZaZHvNgy8cntoFjQ7GOO1actLq6wcv6IzrbQ=s64",
      "userId": "16757135833751682423"
     },
     "user_tz": -330
    },
    "id": "aglNMSKDSJ7g",
    "outputId": "71b1101e-08b5-47b2-ae56-27b7250538f7"
   },
   "outputs": [
    {
     "data": {
      "text/html": [
       "<div>\n",
       "<style scoped>\n",
       "    .dataframe tbody tr th:only-of-type {\n",
       "        vertical-align: middle;\n",
       "    }\n",
       "\n",
       "    .dataframe tbody tr th {\n",
       "        vertical-align: top;\n",
       "    }\n",
       "\n",
       "    .dataframe thead th {\n",
       "        text-align: right;\n",
       "    }\n",
       "</style>\n",
       "<table border=\"1\" class=\"dataframe\">\n",
       "  <thead>\n",
       "    <tr style=\"text-align: right;\">\n",
       "      <th></th>\n",
       "      <th>Tweet</th>\n",
       "      <th>Mobile_Tech_Tag</th>\n",
       "      <th>cleaned_tweet_text_emoji</th>\n",
       "      <th>cleaned_tweet_no_emoji</th>\n",
       "    </tr>\n",
       "  </thead>\n",
       "  <tbody>\n",
       "    <tr>\n",
       "      <th>0</th>\n",
       "      <td>You'll 💜 my #PitchWars book if you like: 🦋 hat...</td>\n",
       "      <td>0</td>\n",
       "      <td>You'll  purple heart  my #PitchWars book if yo...</td>\n",
       "      <td>You'll   my #PitchWars book if you like:   hat...</td>\n",
       "    </tr>\n",
       "    <tr>\n",
       "      <th>1</th>\n",
       "      <td>RT @SkySportsNews: 🚨 Breaking: #WBA have reach...</td>\n",
       "      <td>0</td>\n",
       "      <td>RT @SkySportsNews:  police car light  Breaking...</td>\n",
       "      <td>RT @SkySportsNews:   Breaking: #WBA have reach...</td>\n",
       "    </tr>\n",
       "    <tr>\n",
       "      <th>2</th>\n",
       "      <td>RT @stealyoman_cuso: really says a lot about s...</td>\n",
       "      <td>0</td>\n",
       "      <td>RT @stealyoman_cuso: really says a lot about s...</td>\n",
       "      <td>RT @stealyoman_cuso: really says a lot about s...</td>\n",
       "    </tr>\n",
       "    <tr>\n",
       "      <th>3</th>\n",
       "      <td>RT @PGtzsche1: HPV vaccines increased serious ...</td>\n",
       "      <td>0</td>\n",
       "      <td>RT @PGtzsche1: HPV vaccines increased serious ...</td>\n",
       "      <td>RT @PGtzsche1: HPV vaccines increased serious ...</td>\n",
       "    </tr>\n",
       "    <tr>\n",
       "      <th>4</th>\n",
       "      <td>Ramaphosa says if you are positive you must se...</td>\n",
       "      <td>0</td>\n",
       "      <td>Ramaphosa says if you are positive you must se...</td>\n",
       "      <td>Ramaphosa says if you are positive you must se...</td>\n",
       "    </tr>\n",
       "  </tbody>\n",
       "</table>\n",
       "</div>"
      ],
      "text/plain": [
       "                                               Tweet  ...                             cleaned_tweet_no_emoji\n",
       "0  You'll 💜 my #PitchWars book if you like: 🦋 hat...  ...  You'll   my #PitchWars book if you like:   hat...\n",
       "1  RT @SkySportsNews: 🚨 Breaking: #WBA have reach...  ...  RT @SkySportsNews:   Breaking: #WBA have reach...\n",
       "2  RT @stealyoman_cuso: really says a lot about s...  ...  RT @stealyoman_cuso: really says a lot about s...\n",
       "3  RT @PGtzsche1: HPV vaccines increased serious ...  ...  RT @PGtzsche1: HPV vaccines increased serious ...\n",
       "4  Ramaphosa says if you are positive you must se...  ...  Ramaphosa says if you are positive you must se...\n",
       "\n",
       "[5 rows x 4 columns]"
      ]
     },
     "execution_count": 11,
     "metadata": {
      "tags": []
     },
     "output_type": "execute_result"
    }
   ],
   "source": [
    "data.head()"
   ]
  },
  {
   "cell_type": "markdown",
   "metadata": {
    "id": "9aryxxIEPpcz"
   },
   "source": [
    "## Hashtag segmentation - a column with only hashtag"
   ]
  },
  {
   "cell_type": "code",
   "execution_count": 12,
   "metadata": {
    "colab": {
     "base_uri": "https://localhost:8080/"
    },
    "executionInfo": {
     "elapsed": 22231,
     "status": "ok",
     "timestamp": 1615757338920,
     "user": {
      "displayName": "Mukul Ranjan",
      "photoUrl": "https://lh3.googleusercontent.com/a-/AOh14GjrXoZaZHvNgy8cntoFjQ7GOO1actLq6wcv6IzrbQ=s64",
      "userId": "16757135833751682423"
     },
     "user_tz": -330
    },
    "id": "EG-MozXzPvOY",
    "outputId": "09d6ae6d-72f8-4304-dc86-86bd04133e2d"
   },
   "outputs": [
    {
     "name": "stdout",
     "output_type": "stream",
     "text": [
      "CPU times: user 13.4 ms, sys: 1.04 ms, total: 14.5 ms\n",
      "Wall time: 15.9 ms\n"
     ]
    }
   ],
   "source": [
    "%%time\n",
    "data['hashtag_list'] = data.Tweet.map(lambda x: re.findall(r\"#(\\w+)\", x))"
   ]
  },
  {
   "cell_type": "code",
   "execution_count": 13,
   "metadata": {
    "colab": {
     "base_uri": "https://localhost:8080/",
     "height": 323
    },
    "executionInfo": {
     "elapsed": 21962,
     "status": "ok",
     "timestamp": 1615757338923,
     "user": {
      "displayName": "Mukul Ranjan",
      "photoUrl": "https://lh3.googleusercontent.com/a-/AOh14GjrXoZaZHvNgy8cntoFjQ7GOO1actLq6wcv6IzrbQ=s64",
      "userId": "16757135833751682423"
     },
     "user_tz": -330
    },
    "id": "tcaZ2EWRWtZ0",
    "outputId": "83362fb2-5fb7-4b81-8f0f-97bff26fd88a"
   },
   "outputs": [
    {
     "data": {
      "text/html": [
       "<div>\n",
       "<style scoped>\n",
       "    .dataframe tbody tr th:only-of-type {\n",
       "        vertical-align: middle;\n",
       "    }\n",
       "\n",
       "    .dataframe tbody tr th {\n",
       "        vertical-align: top;\n",
       "    }\n",
       "\n",
       "    .dataframe thead th {\n",
       "        text-align: right;\n",
       "    }\n",
       "</style>\n",
       "<table border=\"1\" class=\"dataframe\">\n",
       "  <thead>\n",
       "    <tr style=\"text-align: right;\">\n",
       "      <th></th>\n",
       "      <th>Tweet</th>\n",
       "      <th>Mobile_Tech_Tag</th>\n",
       "      <th>cleaned_tweet_text_emoji</th>\n",
       "      <th>cleaned_tweet_no_emoji</th>\n",
       "      <th>hashtag_list</th>\n",
       "    </tr>\n",
       "  </thead>\n",
       "  <tbody>\n",
       "    <tr>\n",
       "      <th>0</th>\n",
       "      <td>You'll 💜 my #PitchWars book if you like: 🦋 hat...</td>\n",
       "      <td>0</td>\n",
       "      <td>You'll  purple heart  my #PitchWars book if yo...</td>\n",
       "      <td>You'll   my #PitchWars book if you like:   hat...</td>\n",
       "      <td>[PitchWars, OwnVoices, PWParty20]</td>\n",
       "    </tr>\n",
       "    <tr>\n",
       "      <th>1</th>\n",
       "      <td>RT @SkySportsNews: 🚨 Breaking: #WBA have reach...</td>\n",
       "      <td>0</td>\n",
       "      <td>RT @SkySportsNews:  police car light  Breaking...</td>\n",
       "      <td>RT @SkySportsNews:   Breaking: #WBA have reach...</td>\n",
       "      <td>[WBA, AFC, DeadlineDay]</td>\n",
       "    </tr>\n",
       "    <tr>\n",
       "      <th>2</th>\n",
       "      <td>RT @stealyoman_cuso: really says a lot about s...</td>\n",
       "      <td>0</td>\n",
       "      <td>RT @stealyoman_cuso: really says a lot about s...</td>\n",
       "      <td>RT @stealyoman_cuso: really says a lot about s...</td>\n",
       "      <td>[]</td>\n",
       "    </tr>\n",
       "    <tr>\n",
       "      <th>3</th>\n",
       "      <td>RT @PGtzsche1: HPV vaccines increased serious ...</td>\n",
       "      <td>0</td>\n",
       "      <td>RT @PGtzsche1: HPV vaccines increased serious ...</td>\n",
       "      <td>RT @PGtzsche1: HPV vaccines increased serious ...</td>\n",
       "      <td>[]</td>\n",
       "    </tr>\n",
       "    <tr>\n",
       "      <th>4</th>\n",
       "      <td>Ramaphosa says if you are positive you must se...</td>\n",
       "      <td>0</td>\n",
       "      <td>Ramaphosa says if you are positive you must se...</td>\n",
       "      <td>Ramaphosa says if you are positive you must se...</td>\n",
       "      <td>[FamilyMeeting]</td>\n",
       "    </tr>\n",
       "  </tbody>\n",
       "</table>\n",
       "</div>"
      ],
      "text/plain": [
       "                                               Tweet  ...                       hashtag_list\n",
       "0  You'll 💜 my #PitchWars book if you like: 🦋 hat...  ...  [PitchWars, OwnVoices, PWParty20]\n",
       "1  RT @SkySportsNews: 🚨 Breaking: #WBA have reach...  ...            [WBA, AFC, DeadlineDay]\n",
       "2  RT @stealyoman_cuso: really says a lot about s...  ...                                 []\n",
       "3  RT @PGtzsche1: HPV vaccines increased serious ...  ...                                 []\n",
       "4  Ramaphosa says if you are positive you must se...  ...                    [FamilyMeeting]\n",
       "\n",
       "[5 rows x 5 columns]"
      ]
     },
     "execution_count": 13,
     "metadata": {
      "tags": []
     },
     "output_type": "execute_result"
    }
   ],
   "source": [
    "data.head()"
   ]
  },
  {
   "cell_type": "markdown",
   "metadata": {
    "id": "aa-xEyc_6nHl"
   },
   "source": [
    "## Use ekphrasis for the segmentation of complex words in hashtag"
   ]
  },
  {
   "cell_type": "code",
   "execution_count": 14,
   "metadata": {
    "executionInfo": {
     "elapsed": 21639,
     "status": "ok",
     "timestamp": 1615757338925,
     "user": {
      "displayName": "Mukul Ranjan",
      "photoUrl": "https://lh3.googleusercontent.com/a-/AOh14GjrXoZaZHvNgy8cntoFjQ7GOO1actLq6wcv6IzrbQ=s64",
      "userId": "16757135833751682423"
     },
     "user_tz": -330
    },
    "id": "PLEgEuuAWwwV"
   },
   "outputs": [],
   "source": [
    "## TODO: solve the problem of Iphone => I Phone\n",
    "## ___________________________________________________________\n",
    "\n",
    "## Json (/content/drive/MyDrive/inter-iit-bridgei2i/ekphrasis/ekphrasis/dicts/brand_models.json)\n",
    "## file is already created containing all the \n",
    "## brand and model name but still problem remains same \n",
    "## to create again run /content/drive/MyDrive/inter-iit-bridgei2i/create_json.py\n",
    "## (might have some bug) \n",
    "## _____________________________________________________________________________________\n",
    "\n",
    "\n",
    "# from ekphrasis.classes.segmenter import Segmenter\n",
    "\n",
    "# def hashtag_seg(tweet):\n",
    "#   # segmenter using the word statistics from Twitter\n",
    "#   seg_tw = Segmenter(corpus=\"twitter\",)\n",
    "\n",
    "#   tweet_lst = tweet.split(' ')\n",
    "#   new_tweet_lst = []\n",
    "#   for word in tweet_lst:\n",
    "#     if word[0] == '#':\n",
    "#       word = re.sub(r'#','', word)\n",
    "#       word = seg_tw.segment(word)\n",
    "    \n",
    "#     new_tweet_lst.append(word)\n",
    "  \n",
    "#   tweet = ' '.join(new_tweet_lst)\n",
    "#   return tweet\n",
    "\n",
    "# text = \"\"\"RT #Iphone #Apple @SkySportsNews: 🚨 Breaking: #WBA have reached a verbal agreement with #AFC in the last hour over a #iPhone 12 loan deal for Ainsley Maitland-Niles. @RobDorsettSky adds he will undergo a medical in London #IPhone in the next couple of hours. #DeadlineDay 🤝\"\"\"\n",
    "# k = hashtag_seg(text)\n",
    "# print(k)\n"
   ]
  },
  {
   "cell_type": "markdown",
   "metadata": {
    "id": "SCK6vEed8gOv"
   },
   "source": [
    "## Remove URL, @ and hash, RT, split camel case"
   ]
  },
  {
   "cell_type": "code",
   "execution_count": 15,
   "metadata": {
    "executionInfo": {
     "elapsed": 21181,
     "status": "ok",
     "timestamp": 1615757338927,
     "user": {
      "displayName": "Mukul Ranjan",
      "photoUrl": "https://lh3.googleusercontent.com/a-/AOh14GjrXoZaZHvNgy8cntoFjQ7GOO1actLq6wcv6IzrbQ=s64",
      "userId": "16757135833751682423"
     },
     "user_tz": -330
    },
    "id": "oGg9gjLV_viT"
   },
   "outputs": [],
   "source": [
    "def remove_urls(text):\n",
    "  url_pattern = re.compile(r'https?://\\S+|www\\.\\S+')\n",
    "  return url_pattern.sub(r'', text)\n",
    "\n",
    "def clean_reserved(text):\n",
    "  text = text.replace('@', ' ').replace('#',' ').replace('_',' ').replace('RT', ' ')\n",
    "  return text\n",
    "  \n",
    "def camel_case_split(identifier):\n",
    "  matches = re.finditer('.+?(?:(?<=[a-z])(?=[A-Z])|(?<=[A-Z])(?=[A-Z][a-z])|$)', identifier)\n",
    "  return \" \".join([m.group(0) for m in matches])\n",
    "# text = \"\"\"RT @SkySportsNews:  police car light  Breaking: #WBA have reached a verbal agreement with #AFC in the last hour over a loan deal for Ainsley Maitland-Niles. @RobDorsettSky adds he will undergo a medical in London in the next couple of hours. #DeadlineDay  handshake \"\"\"\n",
    "# remove_urls(text)"
   ]
  },
  {
   "cell_type": "code",
   "execution_count": 16,
   "metadata": {
    "colab": {
     "base_uri": "https://localhost:8080/"
    },
    "executionInfo": {
     "elapsed": 22358,
     "status": "ok",
     "timestamp": 1615757340268,
     "user": {
      "displayName": "Mukul Ranjan",
      "photoUrl": "https://lh3.googleusercontent.com/a-/AOh14GjrXoZaZHvNgy8cntoFjQ7GOO1actLq6wcv6IzrbQ=s64",
      "userId": "16757135833751682423"
     },
     "user_tz": -330
    },
    "id": "eLOeAPrHCJfS",
    "outputId": "acdb517f-04b1-40cf-de2f-fade9035c87b"
   },
   "outputs": [
    {
     "name": "stdout",
     "output_type": "stream",
     "text": [
      "CPU times: user 1.06 s, sys: 11 ms, total: 1.07 s\n",
      "Wall time: 1.08 s\n"
     ]
    }
   ],
   "source": [
    "%%time\n",
    "for i,(tw1, tw2) in enumerate(zip(data['cleaned_tweet_text_emoji'], data['cleaned_tweet_no_emoji'])):\n",
    "  tw1 = remove_urls(tw1)\n",
    "  tw1 = clean_reserved(tw1)\n",
    "  tw1 = camel_case_split(tw1)\n",
    "  tw1 = tw1.lower() # lower case\n",
    "\n",
    "  tw2 = remove_urls(tw2)\n",
    "  tw2 = clean_reserved(tw2)\n",
    "  tw2 = camel_case_split(tw2)\n",
    "  tw2 = tw2.lower() # lower case\n",
    "\n",
    "  data['cleaned_tweet_text_emoji'][i] = tw1\n",
    "  data['cleaned_tweet_no_emoji'][i] = tw2"
   ]
  },
  {
   "cell_type": "code",
   "execution_count": 17,
   "metadata": {
    "colab": {
     "base_uri": "https://localhost:8080/",
     "height": 306
    },
    "executionInfo": {
     "elapsed": 22242,
     "status": "ok",
     "timestamp": 1615757340270,
     "user": {
      "displayName": "Mukul Ranjan",
      "photoUrl": "https://lh3.googleusercontent.com/a-/AOh14GjrXoZaZHvNgy8cntoFjQ7GOO1actLq6wcv6IzrbQ=s64",
      "userId": "16757135833751682423"
     },
     "user_tz": -330
    },
    "id": "uI4PSLMEFnWw",
    "outputId": "8d378189-c205-45c7-e95a-6c1cc7a40ce2"
   },
   "outputs": [
    {
     "data": {
      "text/html": [
       "<div>\n",
       "<style scoped>\n",
       "    .dataframe tbody tr th:only-of-type {\n",
       "        vertical-align: middle;\n",
       "    }\n",
       "\n",
       "    .dataframe tbody tr th {\n",
       "        vertical-align: top;\n",
       "    }\n",
       "\n",
       "    .dataframe thead th {\n",
       "        text-align: right;\n",
       "    }\n",
       "</style>\n",
       "<table border=\"1\" class=\"dataframe\">\n",
       "  <thead>\n",
       "    <tr style=\"text-align: right;\">\n",
       "      <th></th>\n",
       "      <th>Tweet</th>\n",
       "      <th>Mobile_Tech_Tag</th>\n",
       "      <th>cleaned_tweet_text_emoji</th>\n",
       "      <th>cleaned_tweet_no_emoji</th>\n",
       "      <th>hashtag_list</th>\n",
       "    </tr>\n",
       "  </thead>\n",
       "  <tbody>\n",
       "    <tr>\n",
       "      <th>0</th>\n",
       "      <td>You'll 💜 my #PitchWars book if you like: 🦋 hat...</td>\n",
       "      <td>0</td>\n",
       "      <td>you'll  purple heart  my  pitch wars book if y...</td>\n",
       "      <td>you'll   my  pitch wars book if you like:   ha...</td>\n",
       "      <td>[PitchWars, OwnVoices, PWParty20]</td>\n",
       "    </tr>\n",
       "    <tr>\n",
       "      <th>1</th>\n",
       "      <td>RT @SkySportsNews: 🚨 Breaking: #WBA have reach...</td>\n",
       "      <td>0</td>\n",
       "      <td>sky sports news:  police car light  breakin...</td>\n",
       "      <td>sky sports news:   breaking:  wba have reac...</td>\n",
       "      <td>[WBA, AFC, DeadlineDay]</td>\n",
       "    </tr>\n",
       "    <tr>\n",
       "      <th>2</th>\n",
       "      <td>RT @stealyoman_cuso: really says a lot about s...</td>\n",
       "      <td>0</td>\n",
       "      <td>stealyoman cuso: really says a lot about so...</td>\n",
       "      <td>stealyoman cuso: really says a lot about so...</td>\n",
       "      <td>[]</td>\n",
       "    </tr>\n",
       "    <tr>\n",
       "      <th>3</th>\n",
       "      <td>RT @PGtzsche1: HPV vaccines increased serious ...</td>\n",
       "      <td>0</td>\n",
       "      <td>p gtzsche1: hpv vaccines increased serious ...</td>\n",
       "      <td>p gtzsche1: hpv vaccines increased serious ...</td>\n",
       "      <td>[]</td>\n",
       "    </tr>\n",
       "    <tr>\n",
       "      <th>4</th>\n",
       "      <td>Ramaphosa says if you are positive you must se...</td>\n",
       "      <td>0</td>\n",
       "      <td>ramaphosa says if you are positive you must se...</td>\n",
       "      <td>ramaphosa says if you are positive you must se...</td>\n",
       "      <td>[FamilyMeeting]</td>\n",
       "    </tr>\n",
       "  </tbody>\n",
       "</table>\n",
       "</div>"
      ],
      "text/plain": [
       "                                               Tweet  ...                       hashtag_list\n",
       "0  You'll 💜 my #PitchWars book if you like: 🦋 hat...  ...  [PitchWars, OwnVoices, PWParty20]\n",
       "1  RT @SkySportsNews: 🚨 Breaking: #WBA have reach...  ...            [WBA, AFC, DeadlineDay]\n",
       "2  RT @stealyoman_cuso: really says a lot about s...  ...                                 []\n",
       "3  RT @PGtzsche1: HPV vaccines increased serious ...  ...                                 []\n",
       "4  Ramaphosa says if you are positive you must se...  ...                    [FamilyMeeting]\n",
       "\n",
       "[5 rows x 5 columns]"
      ]
     },
     "execution_count": 17,
     "metadata": {
      "tags": []
     },
     "output_type": "execute_result"
    }
   ],
   "source": [
    "data.head()"
   ]
  },
  {
   "cell_type": "code",
   "execution_count": 18,
   "metadata": {
    "colab": {
     "base_uri": "https://localhost:8080/",
     "height": 52
    },
    "executionInfo": {
     "elapsed": 22083,
     "status": "ok",
     "timestamp": 1615757340272,
     "user": {
      "displayName": "Mukul Ranjan",
      "photoUrl": "https://lh3.googleusercontent.com/a-/AOh14GjrXoZaZHvNgy8cntoFjQ7GOO1actLq6wcv6IzrbQ=s64",
      "userId": "16757135833751682423"
     },
     "user_tz": -330
    },
    "id": "BFvcFIjgSMaN",
    "outputId": "d76507b2-191e-47d8-bf82-78fc861376de"
   },
   "outputs": [
    {
     "data": {
      "application/vnd.google.colaboratory.intrinsic+json": {
       "type": "string"
      },
      "text/plain": [
       "'   stealyoman cuso: really says a lot about society that we are half way thru a snow storm and not a single man has offered to risk his life to eat my ass by candle light'"
      ]
     },
     "execution_count": 18,
     "metadata": {
      "tags": []
     },
     "output_type": "execute_result"
    }
   ],
   "source": [
    "data['cleaned_tweet_text_emoji'][2]"
   ]
  },
  {
   "cell_type": "markdown",
   "metadata": {
    "id": "q41aVy2jH7QG"
   },
   "source": [
    "## Contraction Mapping and punctuation removal"
   ]
  },
  {
   "cell_type": "code",
   "execution_count": 19,
   "metadata": {
    "executionInfo": {
     "elapsed": 21671,
     "status": "ok",
     "timestamp": 1615757340275,
     "user": {
      "displayName": "Mukul Ranjan",
      "photoUrl": "https://lh3.googleusercontent.com/a-/AOh14GjrXoZaZHvNgy8cntoFjQ7GOO1actLq6wcv6IzrbQ=s64",
      "userId": "16757135833751682423"
     },
     "user_tz": -330
    },
    "id": "dcFTtX5IIA9L"
   },
   "outputs": [],
   "source": [
    "contraction_mapping = {\"ain't\": \"is not\", \"aren't\": \"are not\",\"can't\": \"cannot\", \"'cause\": \"because\", \"could've\": \"could have\", \"couldn't\": \"could not\", \n",
    "                       \"didn't\": \"did not\",  \"doesn't\": \"does not\", \"don't\": \"do not\", \"hadn't\": \"had not\", \"hasn't\": \"has not\", \"haven't\": \"have not\", \n",
    "                       \"he'd\": \"he would\",\"he'll\": \"he will\", \"he's\": \"he is\", \"how'd\": \"how did\", \"how'd'y\": \"how do you\", \"how'll\": \"how will\", \n",
    "                       \"how's\": \"how is\",  \"I'd\": \"I would\", \"I'd've\": \"I would have\", \"I'll\": \"I will\", \"I'll've\": \"I will have\",\"I'm\": \"I am\",\n",
    "                       \"I've\": \"I have\", \"i'd\": \"i would\", \"i'd've\": \"i would have\", \"i'll\": \"i will\",  \"i'll've\": \"i will have\",\"i'm\": \"i am\", \n",
    "                       \"i've\": \"i have\", \"isn't\": \"is not\", \"it'd\": \"it would\", \"it'd've\": \"it would have\", \"it'll\": \"it will\", \"it'll've\": \"it will have\",\n",
    "                       \"it's\": \"it is\", \"let's\": \"let us\", \"ma'am\": \"madam\", \"mayn't\": \"may not\", \"might've\": \"might have\",\"mightn't\": \"might not\",\n",
    "                       \"mightn't've\": \"might not have\", \"must've\": \"must have\", \"mustn't\": \"must not\", \"mustn't've\": \"must not have\", \"needn't\": \"need not\", \n",
    "                       \"needn't've\": \"need not have\",\"o'clock\": \"of the clock\", \"oughtn't\": \"ought not\", \"oughtn't've\": \"ought not have\", \"shan't\": \"shall not\",\n",
    "                       \"sha'n't\": \"shall not\", \"shan't've\": \"shall not have\", \"she'd\": \"she would\", \"she'd've\": \"she would have\", \"she'll\": \"she will\", \n",
    "                       \"she'll've\": \"she will have\", \"she's\": \"she is\", \"should've\": \"should have\", \"shouldn't\": \"should not\", \"shouldn't've\": \"should not have\",\n",
    "                       \"so've\": \"so have\",\"so's\": \"so as\", \"this's\": \"this is\",\"that'd\": \"that would\", \"that'd've\": \"that would have\", \"that's\": \"that is\",\n",
    "                       \"there'd\": \"there would\", \"there'd've\": \"there would have\", \"there's\": \"there is\", \"here's\": \"here is\",\"they'd\": \"they would\",\n",
    "                       \"they'd've\": \"they would have\", \"they'll\": \"they will\", \"they'll've\": \"they will have\", \"they're\": \"they are\", \"they've\": \"they have\",\n",
    "                       \"to've\": \"to have\", \"wasn't\": \"was not\", \"we'd\": \"we would\", \"we'd've\": \"we would have\", \"we'll\": \"we will\", \"we'll've\": \"we will have\",\n",
    "                       \"we're\": \"we are\", \"we've\": \"we have\", \"weren't\": \"were not\", \"what'll\": \"what will\", \"what'll've\": \"what will have\", \n",
    "                       \"what're\": \"what are\",  \"what's\": \"what is\", \"what've\": \"what have\", \"when's\": \"when is\", \"when've\": \"when have\", \"where'd\": \"where did\",\n",
    "                       \"where's\": \"where is\", \"where've\": \"where have\", \"who'll\": \"who will\", \"who'll've\": \"who will have\", \"who's\": \"who is\", \n",
    "                       \"who've\": \"who have\", \"why's\": \"why is\", \"why've\": \"why have\", \"will've\": \"will have\", \"won't\": \"will not\", \"won't've\": \"will not have\", \n",
    "                       \"would've\": \"would have\", \"wouldn't\": \"would not\", \"wouldn't've\": \"would not have\", \"y'all\": \"you all\", \"y'all'd\": \"you all would\",\n",
    "                       \"y'all'd've\": \"you all would have\",\"y'all're\": \"you all are\",\"y'all've\": \"you all have\",\"you'd\": \"you would\", \"you'd've\": \"you would have\",\n",
    "                       \"you'll\": \"you will\", \"you'll've\": \"you will have\", \"you're\": \"you are\", \"you've\": \"you have\", 'u.s':'america', 'e.g':'for example', 'smartphones':'smartphone'}\n",
    "\n",
    "punct = [',', '.', '\"', ':', ')', '(', '-', '!', '?', '|', ';', \"'\", '$', '&', '/', '[', ']', '>', '%', '=', '#', '*', '+', '\\\\', '•',  '~', '@', '£', \n",
    " '·', '_', '{', '}', '©', '^', '®', '`',  '<', '→', '°', '€', '™', '›',  '♥', '←', '×', '§', '″', '′', 'Â', '█', '½', 'à', '…', \n",
    " '“', '★', '”', '–', '●', 'â', '►', '−', '¢', '²', '¬', '░', '¶', '↑', '±', '¿', '▾', '═', '¦', '║', '―', '¥', '▓', '—', '‹', '─', \n",
    " '▒', '：', '¼', '⊕', '▼', '▪', '†', '■', '’', '▀', '¨', '▄', '♫', '☆', 'é', '¯', '♦', '¤', '▲', 'è', '¸', '¾', 'Ã', '⋅', '‘', '∞', \n",
    " '∙', '）', '↓', '、', '│', '（', '»', '，', '♪', '╩', '╚', '³', '・', '╦', '╣', '╔', '╗', '▬', '❤', 'ï', 'Ø', '¹', '≤', '‡', '√', ]\n",
    "\n",
    "punct_mapping = {\"‘\": \"'\", \"₹\": \"e\", \"´\": \"'\", \"°\": \"\", \"€\": \"e\", \"™\": \"tm\", \"√\": \" sqrt \", \"×\": \"x\", \"²\": \"2\", \"—\": \"-\", \"–\": \"-\", \"’\": \"'\", \"_\": \"-\",\n",
    "                 \"`\": \"'\", '“': '\"', '”': '\"', '“': '\"', \"£\": \"e\", '∞': 'infinity', 'θ': 'theta', '÷': '/', 'α': 'alpha', '•': '.', 'à': 'a', '−': '-', \n",
    "                 'β': 'beta', '∅': '', '³': '3', 'π': 'pi', '!':' '}\n",
    "\n",
    "mispell_dict = {'colour': 'color', 'centre': 'center', 'favourite': 'favorite', 'travelling': 'traveling', 'counselling': 'counseling', 'theatre': 'theater',\n",
    "                'cancelled': 'canceled', 'labour': 'labor', 'organisation': 'organization', 'wwii': 'world war 2', 'citicise': 'criticize', 'youtu ': 'youtube ',\n",
    "                'Qoura': 'Quora', 'sallary': 'salary', 'Whta': 'What', 'narcisist': 'narcissist', 'howdo': 'how do', 'whatare': 'what are', 'howcan': 'how can',\n",
    "                'howmuch': 'how much', 'howmany': 'how many', 'whydo': 'why do', 'doI': 'do I', 'theBest': 'the best', 'howdoes': 'how does','Etherium': 'Ethereum', \n",
    "                'narcissit': 'narcissist', 'bigdata': 'big data', '2k17': '2017', '2k18': '2018', 'qouta': 'quota', 'exboyfriend': 'ex boyfriend', \n",
    "                'airhostess': 'air hostess', \"whst\": 'what', 'watsapp': 'whatsapp', 'demonitisation': 'demonetization', 'demonitization': 'demonetization',\n",
    "                'demonetisation': 'demonetization'}"
   ]
  },
  {
   "cell_type": "code",
   "execution_count": 20,
   "metadata": {
    "executionInfo": {
     "elapsed": 21425,
     "status": "ok",
     "timestamp": 1615757340277,
     "user": {
      "displayName": "Mukul Ranjan",
      "photoUrl": "https://lh3.googleusercontent.com/a-/AOh14GjrXoZaZHvNgy8cntoFjQ7GOO1actLq6wcv6IzrbQ=s64",
      "userId": "16757135833751682423"
     },
     "user_tz": -330
    },
    "id": "7xiTdVQRIBKi"
   },
   "outputs": [],
   "source": [
    "def clean_contractions(text):\n",
    "    '''Clean contraction using contraction mapping'''    \n",
    "    specials = [\"’\", \"‘\", \"´\", \"`\"]\n",
    "    for s in specials:\n",
    "        text = text.replace(s, \"'\")\n",
    "\n",
    "    for word in contraction_mapping.keys():\n",
    "        if \"\"+word+\"\" in text:\n",
    "            text = text.replace(\"\"+word+\"\", \"\"+contraction_mapping[word]+\"\")\n",
    "\n",
    "    for p in punct_mapping:\n",
    "      text = text.replace(p, punct_mapping[p])\n",
    "\n",
    "    for p in punct:\n",
    "      text = text.replace(p,' ')\n",
    "\n",
    "    # creating a space between a word and the punctuation following it\n",
    "    # eg: \"he is a boy.He is good\" => \"he is a boy .He is good\" so the it doesn't become \n",
    "    # he is a boyHe is good\n",
    "    text = re.sub(r\"([?.!,¿])\", r\" \\1 \", text)\n",
    "    text = re.sub(r'[\" \"]+', \" \", text)\n",
    "    #Remove Punctuations\n",
    "    text = re.sub('[%s]' % re.escape(string.punctuation), '', text)\n",
    "\n",
    "    # Remove extra space\n",
    "    text = re.sub(r' +', ' ', text)\n",
    "\n",
    "    return text\n",
    "# text = \"\"\"they're the stealyoman cuso::::::::: really says a lot ((((((((((((((((((((((( about society that we are half way thru```````````````````` a snow storm and not a ????????????????????????????????? &&&&&&&&&&&&&&&&&& single man has offered to risk his life to eat my ass by candle light\"\"\"\n",
    "# clean_contractions(text)"
   ]
  },
  {
   "cell_type": "code",
   "execution_count": 21,
   "metadata": {
    "colab": {
     "base_uri": "https://localhost:8080/"
    },
    "executionInfo": {
     "elapsed": 23089,
     "status": "ok",
     "timestamp": 1615757342070,
     "user": {
      "displayName": "Mukul Ranjan",
      "photoUrl": "https://lh3.googleusercontent.com/a-/AOh14GjrXoZaZHvNgy8cntoFjQ7GOO1actLq6wcv6IzrbQ=s64",
      "userId": "16757135833751682423"
     },
     "user_tz": -330
    },
    "id": "HKtyuDqRSKo7",
    "outputId": "d52c2d71-f3b0-45b7-d868-d54dae2b797d"
   },
   "outputs": [
    {
     "name": "stdout",
     "output_type": "stream",
     "text": [
      "CPU times: user 1.8 s, sys: 5.02 ms, total: 1.81 s\n",
      "Wall time: 1.82 s\n"
     ]
    }
   ],
   "source": [
    "%%time\n",
    "for i,(tw1, tw2) in enumerate(zip(data['cleaned_tweet_text_emoji'], data['cleaned_tweet_no_emoji'])):\n",
    "  tw1 = clean_contractions(tw1)\n",
    "  tw2 = clean_contractions(tw2)\n",
    "  data['cleaned_tweet_text_emoji'][i] = tw1\n",
    "  data['cleaned_tweet_no_emoji'][i] = tw2"
   ]
  },
  {
   "cell_type": "code",
   "execution_count": 22,
   "metadata": {
    "colab": {
     "base_uri": "https://localhost:8080/",
     "height": 306
    },
    "executionInfo": {
     "elapsed": 22999,
     "status": "ok",
     "timestamp": 1615757342072,
     "user": {
      "displayName": "Mukul Ranjan",
      "photoUrl": "https://lh3.googleusercontent.com/a-/AOh14GjrXoZaZHvNgy8cntoFjQ7GOO1actLq6wcv6IzrbQ=s64",
      "userId": "16757135833751682423"
     },
     "user_tz": -330
    },
    "id": "GeLrsUcPKZkh",
    "outputId": "f587fde8-2ebd-4f27-f10d-bacba485d2b4"
   },
   "outputs": [
    {
     "data": {
      "text/html": [
       "<div>\n",
       "<style scoped>\n",
       "    .dataframe tbody tr th:only-of-type {\n",
       "        vertical-align: middle;\n",
       "    }\n",
       "\n",
       "    .dataframe tbody tr th {\n",
       "        vertical-align: top;\n",
       "    }\n",
       "\n",
       "    .dataframe thead th {\n",
       "        text-align: right;\n",
       "    }\n",
       "</style>\n",
       "<table border=\"1\" class=\"dataframe\">\n",
       "  <thead>\n",
       "    <tr style=\"text-align: right;\">\n",
       "      <th></th>\n",
       "      <th>Tweet</th>\n",
       "      <th>Mobile_Tech_Tag</th>\n",
       "      <th>cleaned_tweet_text_emoji</th>\n",
       "      <th>cleaned_tweet_no_emoji</th>\n",
       "      <th>hashtag_list</th>\n",
       "    </tr>\n",
       "  </thead>\n",
       "  <tbody>\n",
       "    <tr>\n",
       "      <th>0</th>\n",
       "      <td>You'll 💜 my #PitchWars book if you like: 🦋 hat...</td>\n",
       "      <td>0</td>\n",
       "      <td>you will purple heart my pitch wars book if yo...</td>\n",
       "      <td>you will my pitch wars book if you like hate t...</td>\n",
       "      <td>[PitchWars, OwnVoices, PWParty20]</td>\n",
       "    </tr>\n",
       "    <tr>\n",
       "      <th>1</th>\n",
       "      <td>RT @SkySportsNews: 🚨 Breaking: #WBA have reach...</td>\n",
       "      <td>0</td>\n",
       "      <td>sky sports news police car light breaking wba...</td>\n",
       "      <td>sky sports news breaking wba have reached a v...</td>\n",
       "      <td>[WBA, AFC, DeadlineDay]</td>\n",
       "    </tr>\n",
       "    <tr>\n",
       "      <th>2</th>\n",
       "      <td>RT @stealyoman_cuso: really says a lot about s...</td>\n",
       "      <td>0</td>\n",
       "      <td>stealyoman cuso really says a lot about socie...</td>\n",
       "      <td>stealyoman cuso really says a lot about socie...</td>\n",
       "      <td>[]</td>\n",
       "    </tr>\n",
       "    <tr>\n",
       "      <th>3</th>\n",
       "      <td>RT @PGtzsche1: HPV vaccines increased serious ...</td>\n",
       "      <td>0</td>\n",
       "      <td>p gtzsche1 hpv vaccines increased serious ner...</td>\n",
       "      <td>p gtzsche1 hpv vaccines increased serious ner...</td>\n",
       "      <td>[]</td>\n",
       "    </tr>\n",
       "    <tr>\n",
       "      <th>4</th>\n",
       "      <td>Ramaphosa says if you are positive you must se...</td>\n",
       "      <td>0</td>\n",
       "      <td>ramaphosa says if you are positive you must se...</td>\n",
       "      <td>ramaphosa says if you are positive you must se...</td>\n",
       "      <td>[FamilyMeeting]</td>\n",
       "    </tr>\n",
       "  </tbody>\n",
       "</table>\n",
       "</div>"
      ],
      "text/plain": [
       "                                               Tweet  ...                       hashtag_list\n",
       "0  You'll 💜 my #PitchWars book if you like: 🦋 hat...  ...  [PitchWars, OwnVoices, PWParty20]\n",
       "1  RT @SkySportsNews: 🚨 Breaking: #WBA have reach...  ...            [WBA, AFC, DeadlineDay]\n",
       "2  RT @stealyoman_cuso: really says a lot about s...  ...                                 []\n",
       "3  RT @PGtzsche1: HPV vaccines increased serious ...  ...                                 []\n",
       "4  Ramaphosa says if you are positive you must se...  ...                    [FamilyMeeting]\n",
       "\n",
       "[5 rows x 5 columns]"
      ]
     },
     "execution_count": 22,
     "metadata": {
      "tags": []
     },
     "output_type": "execute_result"
    }
   ],
   "source": [
    "data.head()"
   ]
  },
  {
   "cell_type": "markdown",
   "metadata": {
    "id": "eWCj6kfWcUsv"
   },
   "source": [
    "## Remove duplicates"
   ]
  },
  {
   "cell_type": "code",
   "execution_count": 23,
   "metadata": {
    "colab": {
     "base_uri": "https://localhost:8080/"
    },
    "executionInfo": {
     "elapsed": 22585,
     "status": "ok",
     "timestamp": 1615757342073,
     "user": {
      "displayName": "Mukul Ranjan",
      "photoUrl": "https://lh3.googleusercontent.com/a-/AOh14GjrXoZaZHvNgy8cntoFjQ7GOO1actLq6wcv6IzrbQ=s64",
      "userId": "16757135833751682423"
     },
     "user_tz": -330
    },
    "id": "HrtgKIZpcT0i",
    "outputId": "fce3ed1a-53e6-49ad-b6fd-ff1b51297995"
   },
   "outputs": [
    {
     "data": {
      "text/plain": [
       "1709"
      ]
     },
     "execution_count": 23,
     "metadata": {
      "tags": []
     },
     "output_type": "execute_result"
    }
   ],
   "source": [
    "train_test_df = data[['cleaned_tweet_text_emoji', 'Mobile_Tech_Tag']].copy()\n",
    "duplicate = train_test_df[train_test_df.duplicated()]\n",
    "len(duplicate)"
   ]
  },
  {
   "cell_type": "code",
   "execution_count": 24,
   "metadata": {
    "colab": {
     "base_uri": "https://localhost:8080/"
    },
    "executionInfo": {
     "elapsed": 22223,
     "status": "ok",
     "timestamp": 1615757342075,
     "user": {
      "displayName": "Mukul Ranjan",
      "photoUrl": "https://lh3.googleusercontent.com/a-/AOh14GjrXoZaZHvNgy8cntoFjQ7GOO1actLq6wcv6IzrbQ=s64",
      "userId": "16757135833751682423"
     },
     "user_tz": -330
    },
    "id": "6uxqKC7bcnYL",
    "outputId": "90ae2e23-4c5c-453f-f71f-29828581e4b1"
   },
   "outputs": [
    {
     "data": {
      "text/plain": [
       "2291"
      ]
     },
     "execution_count": 24,
     "metadata": {
      "tags": []
     },
     "output_type": "execute_result"
    }
   ],
   "source": [
    "unique_df = train_test_df.drop_duplicates(keep = 'last')\n",
    "len(unique_df)"
   ]
  },
  {
   "cell_type": "markdown",
   "metadata": {
    "id": "MhHpHb8OUsGJ"
   },
   "source": [
    "# Tokenization, more cleaning, train-test split and baseline"
   ]
  },
  {
   "cell_type": "markdown",
   "metadata": {
    "id": "kJLutiJdWX_H"
   },
   "source": [
    "## Tokenization"
   ]
  },
  {
   "cell_type": "code",
   "execution_count": null,
   "metadata": {
    "id": "qgB5OUMjgdI0"
   },
   "outputs": [],
   "source": []
  }
 ],
 "metadata": {
  "colab": {
   "authorship_tag": "ABX9TyOmDsn8DtsvkDnUIIBbBypd",
   "mount_file_id": "1TFojcqxwSPPtjPA5sW1zGfI2ztm10Pj0",
   "name": "bridgei2i-preprocessing-pipepine.ipynb",
   "provenance": [],
   "toc_visible": true
  },
  "kernelspec": {
   "display_name": "Python 3",
   "language": "python",
   "name": "python3"
  },
  "language_info": {
   "codemirror_mode": {
    "name": "ipython",
    "version": 3
   },
   "file_extension": ".py",
   "mimetype": "text/x-python",
   "name": "python",
   "nbconvert_exporter": "python",
   "pygments_lexer": "ipython3",
   "version": "3.8.5"
  }
 },
 "nbformat": 4,
 "nbformat_minor": 1
}
