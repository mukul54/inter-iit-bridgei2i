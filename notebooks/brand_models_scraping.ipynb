{
  "nbformat": 4,
  "nbformat_minor": 0,
  "metadata": {
    "kernelspec": {
      "display_name": "Python 3",
      "language": "python",
      "name": "python3"
    },
    "language_info": {
      "codemirror_mode": {
        "name": "ipython",
        "version": 3
      },
      "file_extension": ".py",
      "mimetype": "text/x-python",
      "name": "python",
      "nbconvert_exporter": "python",
      "pygments_lexer": "ipython3",
      "version": "3.8.5"
    },
    "colab": {
      "name": "brand models scraping.ipynb",
      "provenance": []
    }
  },
  "cells": [
    {
      "cell_type": "code",
      "metadata": {
        "id": "gCkg9VD92vl2"
      },
      "source": [
        "from selenium import webdriver\n",
        "from time import  sleep \n",
        "from bs4 import BeautifulSoup\n",
        "from random import randint\n",
        "import pandas as pd \n",
        "import numpy as np \n",
        "import time\n",
        "\n",
        "driver = webdriver.Chrome()\n",
        "\n",
        "driver.set_page_load_timeout(90)\n",
        "\n",
        "driver.get(\"https://www.gsmarena.com/makers.php3\")\n",
        "sleep(2)\n",
        "soup = BeautifulSoup(driver.page_source,'lxml')\n"
      ],
      "execution_count": null,
      "outputs": []
    },
    {
      "cell_type": "code",
      "metadata": {
        "id": "KaVTD1in2vmB"
      },
      "source": [
        "brand_=[]\n",
        "brand_list=soup.findAll('a')[25:142]\n",
        "for link in brand_list:\n",
        "    \n",
        "    brand_.append([link[\"href\"],re.findall('([a-zA-Z ]*)\\d*.*', link.text)[0]])\n",
        "                    # print(link[\"href\"])\n",
        "                    # print(link.text)\n"
      ],
      "execution_count": null,
      "outputs": []
    },
    {
      "cell_type": "code",
      "metadata": {
        "id": "3mQvaWuY2vmC",
        "outputId": "c7d8f5e8-8180-4ac5-ee01-e9add874d634"
      },
      "source": [
        "brand_"
      ],
      "execution_count": null,
      "outputs": [
        {
          "output_type": "execute_result",
          "data": {
            "text/plain": [
              "[['acer-phones-59.php', 'Acer'],\n",
              " ['alcatel-phones-5.php', 'alcatel'],\n",
              " ['allview-phones-88.php', 'Allview'],\n",
              " ['amazon-phones-76.php', 'Amazon'],\n",
              " ['amoi-phones-28.php', 'Amoi'],\n",
              " ['apple-phones-48.php', 'Apple'],\n",
              " ['archos-phones-90.php', 'Archos'],\n",
              " ['asus-phones-46.php', 'Asus'],\n",
              " ['at&t-phones-57.php', 'AT'],\n",
              " ['benefon-phones-15.php', 'Benefon'],\n",
              " ['benq-phones-31.php', 'BenQ'],\n",
              " ['benq_siemens-phones-42.php', 'BenQ'],\n",
              " ['bird-phones-34.php', 'Bird'],\n",
              " ['blackberry-phones-36.php', 'BlackBerry'],\n",
              " ['blackview-phones-116.php', 'Blackview'],\n",
              " ['blu-phones-67.php', 'BLU'],\n",
              " ['bosch-phones-10.php', 'Bosch'],\n",
              " ['bq-phones-108.php', 'BQ'],\n",
              " ['casio-phones-77.php', 'Casio'],\n",
              " ['cat-phones-89.php', 'Cat'],\n",
              " ['celkon-phones-75.php', 'Celkon'],\n",
              " ['chea-phones-24.php', 'Chea'],\n",
              " ['coolpad-phones-105.php', 'Coolpad'],\n",
              " ['dell-phones-61.php', 'Dell'],\n",
              " ['emporia-phones-93.php', 'Emporia'],\n",
              " ['energizer-phones-106.php', 'Energizer'],\n",
              " ['ericsson-phones-2.php', 'Ericsson'],\n",
              " ['eten-phones-40.php', 'Eten'],\n",
              " ['fairphone-phones-127.php', 'Fairphone'],\n",
              " ['fujitsu_siemens-phones-50.php', 'Fujitsu Siemens'],\n",
              " ['garmin_asus-phones-65.php', 'Garmin'],\n",
              " ['gigabyte-phones-47.php', 'Gigabyte'],\n",
              " ['gionee-phones-92.php', 'Gionee'],\n",
              " ['google-phones-107.php', 'Google'],\n",
              " ['haier-phones-33.php', 'Haier'],\n",
              " ['honor-phones-121.php', 'Honor'],\n",
              " ['hp-phones-41.php', 'HP'],\n",
              " ['htc-phones-45.php', 'HTC'],\n",
              " ['huawei-phones-58.php', 'Huawei'],\n",
              " ['i_mate-phones-35.php', 'i'],\n",
              " ['i_mobile-phones-52.php', 'i'],\n",
              " ['icemobile-phones-69.php', 'Icemobile'],\n",
              " ['infinix-phones-119.php', 'Infinix'],\n",
              " ['innostream-phones-29.php', 'Innostream'],\n",
              " ['inq-phones-60.php', 'iNQ'],\n",
              " ['intex-phones-102.php', 'Intex'],\n",
              " ['jolla-phones-84.php', 'Jolla'],\n",
              " ['karbonn-phones-83.php', 'Karbonn'],\n",
              " ['kyocera-phones-17.php', 'Kyocera'],\n",
              " ['lava-phones-94.php', 'Lava'],\n",
              " ['leeco-phones-109.php', 'LeEco'],\n",
              " ['lenovo-phones-73.php', 'Lenovo'],\n",
              " ['lg-phones-20.php', 'LG'],\n",
              " ['maxon-phones-14.php', 'Maxon'],\n",
              " ['maxwest-phones-87.php', 'Maxwest'],\n",
              " ['meizu-phones-74.php', 'Meizu'],\n",
              " ['micromax-phones-66.php', 'Micromax'],\n",
              " ['microsoft-phones-64.php', 'Microsoft'],\n",
              " ['mitac-phones-25.php', 'Mitac'],\n",
              " ['mitsubishi-phones-8.php', 'Mitsubishi'],\n",
              " ['modu-phones-63.php', 'Modu'],\n",
              " ['motorola-phones-4.php', 'Motorola'],\n",
              " ['mwg-phones-56.php', 'MWg'],\n",
              " ['nec-phones-12.php', 'NEC'],\n",
              " ['neonode-phones-22.php', 'Neonode'],\n",
              " ['niu-phones-79.php', 'NIU'],\n",
              " ['nokia-phones-1.php', 'Nokia'],\n",
              " ['nvidia-phones-97.php', 'Nvidia'],\n",
              " ['o2-phones-30.php', 'O'],\n",
              " ['oneplus-phones-95.php', 'OnePlus'],\n",
              " ['oppo-phones-82.php', 'Oppo'],\n",
              " ['orange-phones-71.php', 'Orange'],\n",
              " ['palm-phones-27.php', 'Palm'],\n",
              " ['panasonic-phones-6.php', 'Panasonic'],\n",
              " ['pantech-phones-32.php', 'Pantech'],\n",
              " ['parla-phones-81.php', 'Parla'],\n",
              " ['philips-phones-11.php', 'Philips'],\n",
              " ['plum-phones-72.php', 'Plum'],\n",
              " ['posh-phones-101.php', 'Posh'],\n",
              " ['prestigio-phones-86.php', 'Prestigio'],\n",
              " ['qmobile-phones-103.php', 'QMobile'],\n",
              " ['qtek-phones-38.php', 'Qtek'],\n",
              " ['razer-phones-117.php', 'Razer'],\n",
              " ['realme-phones-118.php', 'Realme'],\n",
              " ['sagem-phones-13.php', 'Sagem'],\n",
              " ['samsung-phones-9.php', 'Samsung'],\n",
              " ['sendo-phones-18.php', 'Sendo'],\n",
              " ['sewon-phones-26.php', 'Sewon'],\n",
              " ['sharp-phones-23.php', 'Sharp'],\n",
              " ['siemens-phones-3.php', 'Siemens'],\n",
              " ['sonim-phones-54.php', 'Sonim'],\n",
              " ['sony-phones-7.php', 'Sony'],\n",
              " ['sony_ericsson-phones-19.php', 'Sony Ericsson'],\n",
              " ['spice-phones-68.php', 'Spice'],\n",
              " ['t_mobile-phones-55.php', 'T'],\n",
              " ['tcl-phones-123.php', 'TCL'],\n",
              " ['tecno-phones-120.php', 'Tecno'],\n",
              " ['tel_me_-phones-21.php', 'Tel'],\n",
              " ['telit-phones-16.php', 'Telit'],\n",
              " ['thuraya-phones-49.php', 'Thuraya'],\n",
              " ['toshiba-phones-44.php', 'Toshiba'],\n",
              " ['ulefone-phones-124.php', 'Ulefone'],\n",
              " ['unnecto-phones-91.php', 'Unnecto'],\n",
              " ['vertu-phones-39.php', 'Vertu'],\n",
              " ['verykool-phones-70.php', 'verykool'],\n",
              " ['vivo-phones-98.php', 'vivo'],\n",
              " ['vk_mobile-phones-37.php', 'VK Mobile'],\n",
              " ['vodafone-phones-53.php', 'Vodafone'],\n",
              " ['wiko-phones-96.php', 'Wiko'],\n",
              " ['wnd-phones-51.php', 'WND'],\n",
              " ['xcute-phones-43.php', 'XCute'],\n",
              " ['xiaomi-phones-80.php', 'Xiaomi'],\n",
              " ['xolo-phones-85.php', 'XOLO'],\n",
              " ['yezz-phones-78.php', 'Yezz'],\n",
              " ['yota-phones-99.php', 'Yota'],\n",
              " ['yu-phones-100.php', 'YU'],\n",
              " ['zte-phones-62.php', 'ZTE']]"
            ]
          },
          "metadata": {
            "tags": []
          },
          "execution_count": 66
        }
      ]
    },
    {
      "cell_type": "code",
      "metadata": {
        "id": "VYIUedd52vmF"
      },
      "source": [
        "brand_models={}\n",
        "\n",
        "for i in brand_:\n",
        "    driver.get('https://www.gsmarena.com/'+i[0])\n",
        "    time.sleep(2)\n",
        "    soup1= BeautifulSoup(driver.page_source,'lxml')\n",
        "    brand_models[i[1]]=[i.text for i in soup1.findAll('strong')]"
      ],
      "execution_count": null,
      "outputs": []
    },
    {
      "cell_type": "code",
      "metadata": {
        "id": "acjhdrhT2vmH",
        "outputId": "97520693-a808-41a1-e221-8181e8df2675"
      },
      "source": [
        "soup1.findAll('strong')[0].text"
      ],
      "execution_count": null,
      "outputs": [
        {
          "output_type": "execute_result",
          "data": {
            "text/plain": [
              "'Chromebook Tab 10'"
            ]
          },
          "metadata": {
            "tags": []
          },
          "execution_count": 51
        }
      ]
    },
    {
      "cell_type": "code",
      "metadata": {
        "id": "pnVOty-J2vmI"
      },
      "source": [
        "brand_model=pd.DataFrame(brand_models.items())\n",
        "brand_model.columns=['phone_brands','model_name']"
      ],
      "execution_count": null,
      "outputs": []
    },
    {
      "cell_type": "code",
      "metadata": {
        "id": "wZUXdQXu2vmJ"
      },
      "source": [
        "df=pd.DataFrame({'a':np.repeat(brand_model['phone_brands'].values, brand_model['model_name'].str.len()),\n",
        "                        'b':np.concatenate(brand_model['model_name'].values)})\n",
        "df.columns=['brands','model']\n",
        "df=df.drop(df.index[df['model'].isin(['1','3','7','5','Filters:'])])\n",
        "df=df.reset_index().drop(['index'],axis=1)"
      ],
      "execution_count": null,
      "outputs": []
    },
    {
      "cell_type": "code",
      "metadata": {
        "id": "RZ-bHTzT2vmK"
      },
      "source": [
        "df.to_csv('model_brands.csv')"
      ],
      "execution_count": null,
      "outputs": []
    },
    {
      "cell_type": "code",
      "metadata": {
        "id": "GenwB7Yn2vmL"
      },
      "source": [
        "brand_model.to_csv('list model brands.csv')"
      ],
      "execution_count": null,
      "outputs": []
    },
    {
      "cell_type": "code",
      "metadata": {
        "id": "7Ceafhaa2vmM",
        "outputId": "5c9612ea-468c-4f91-a4e8-c55904e24be1"
      },
      "source": [
        "df"
      ],
      "execution_count": null,
      "outputs": [
        {
          "output_type": "execute_result",
          "data": {
            "text/html": [
              "<div>\n",
              "<style scoped>\n",
              "    .dataframe tbody tr th:only-of-type {\n",
              "        vertical-align: middle;\n",
              "    }\n",
              "\n",
              "    .dataframe tbody tr th {\n",
              "        vertical-align: top;\n",
              "    }\n",
              "\n",
              "    .dataframe thead th {\n",
              "        text-align: right;\n",
              "    }\n",
              "</style>\n",
              "<table border=\"1\" class=\"dataframe\">\n",
              "  <thead>\n",
              "    <tr style=\"text-align: right;\">\n",
              "      <th></th>\n",
              "      <th>brands</th>\n",
              "      <th>model</th>\n",
              "    </tr>\n",
              "  </thead>\n",
              "  <tbody>\n",
              "    <tr>\n",
              "      <th>0</th>\n",
              "      <td>Acer</td>\n",
              "      <td>Chromebook Tab 10</td>\n",
              "    </tr>\n",
              "    <tr>\n",
              "      <th>1</th>\n",
              "      <td>Acer</td>\n",
              "      <td>Iconia Talk S</td>\n",
              "    </tr>\n",
              "    <tr>\n",
              "      <th>2</th>\n",
              "      <td>Acer</td>\n",
              "      <td>Liquid Z6 Plus</td>\n",
              "    </tr>\n",
              "    <tr>\n",
              "      <th>3</th>\n",
              "      <td>Acer</td>\n",
              "      <td>Liquid Z6</td>\n",
              "    </tr>\n",
              "    <tr>\n",
              "      <th>4</th>\n",
              "      <td>Acer</td>\n",
              "      <td>Iconia Tab 10 A3-A40</td>\n",
              "    </tr>\n",
              "    <tr>\n",
              "      <th>...</th>\n",
              "      <td>...</td>\n",
              "      <td>...</td>\n",
              "    </tr>\n",
              "    <tr>\n",
              "      <th>3198</th>\n",
              "      <td>ZTE</td>\n",
              "      <td>nubia Z18</td>\n",
              "    </tr>\n",
              "    <tr>\n",
              "      <th>3199</th>\n",
              "      <td>ZTE</td>\n",
              "      <td>ZTE Axon 20 5G review</td>\n",
              "    </tr>\n",
              "    <tr>\n",
              "      <th>3200</th>\n",
              "      <td>ZTE</td>\n",
              "      <td>nubia Red Magic 5S review</td>\n",
              "    </tr>\n",
              "    <tr>\n",
              "      <th>3201</th>\n",
              "      <td>ZTE</td>\n",
              "      <td>nubia Red Magic 5G review</td>\n",
              "    </tr>\n",
              "    <tr>\n",
              "      <th>3202</th>\n",
              "      <td>ZTE</td>\n",
              "      <td>nubia Red Magic 3s review</td>\n",
              "    </tr>\n",
              "  </tbody>\n",
              "</table>\n",
              "<p>3203 rows × 2 columns</p>\n",
              "</div>"
            ],
            "text/plain": [
              "     brands                      model\n",
              "0      Acer          Chromebook Tab 10\n",
              "1      Acer              Iconia Talk S\n",
              "2      Acer             Liquid Z6 Plus\n",
              "3      Acer                  Liquid Z6\n",
              "4      Acer       Iconia Tab 10 A3-A40\n",
              "...     ...                        ...\n",
              "3198    ZTE                  nubia Z18\n",
              "3199    ZTE      ZTE Axon 20 5G review\n",
              "3200    ZTE  nubia Red Magic 5S review\n",
              "3201    ZTE  nubia Red Magic 5G review\n",
              "3202    ZTE  nubia Red Magic 3s review\n",
              "\n",
              "[3203 rows x 2 columns]"
            ]
          },
          "metadata": {
            "tags": []
          },
          "execution_count": 92
        }
      ]
    },
    {
      "cell_type": "code",
      "metadata": {
        "id": "RtW2cC7P2vmM"
      },
      "source": [
        ""
      ],
      "execution_count": null,
      "outputs": []
    }
  ]
}